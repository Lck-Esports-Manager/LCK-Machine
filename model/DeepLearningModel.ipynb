{
 "cells": [
  {
   "cell_type": "code",
   "execution_count": 6,
   "id": "2ee89896",
   "metadata": {},
   "outputs": [],
   "source": [
    "from keras.datasets import mnist\n",
    "from keras.utils.np_utils import to_categorical \n",
    "import numpy as np \n",
    "import pandas as pd\n",
    "\n",
    "from sklearn.preprocessing import minmax_scale \n",
    "\n",
    "from keras.models import Sequential \n",
    "from keras.layers import Dense, Dropout, Activation \n",
    "from tensorflow.keras.optimizers import Adam\n"
   ]
  },
  {
   "cell_type": "code",
   "execution_count": 21,
   "id": "bead6f80",
   "metadata": {},
   "outputs": [
    {
     "name": "stdout",
     "output_type": "stream",
     "text": [
      "[[[0 0 0 ... 0 0 0]\n",
      "  [0 0 0 ... 0 0 0]\n",
      "  [0 0 0 ... 0 0 0]\n",
      "  ...\n",
      "  [0 0 0 ... 0 0 0]\n",
      "  [0 0 0 ... 0 0 0]\n",
      "  [0 0 0 ... 0 0 0]]\n",
      "\n",
      " [[0 0 0 ... 0 0 0]\n",
      "  [0 0 0 ... 0 0 0]\n",
      "  [0 0 0 ... 0 0 0]\n",
      "  ...\n",
      "  [0 0 0 ... 0 0 0]\n",
      "  [0 0 0 ... 0 0 0]\n",
      "  [0 0 0 ... 0 0 0]]\n",
      "\n",
      " [[0 0 0 ... 0 0 0]\n",
      "  [0 0 0 ... 0 0 0]\n",
      "  [0 0 0 ... 0 0 0]\n",
      "  ...\n",
      "  [0 0 0 ... 0 0 0]\n",
      "  [0 0 0 ... 0 0 0]\n",
      "  [0 0 0 ... 0 0 0]]\n",
      "\n",
      " ...\n",
      "\n",
      " [[0 0 0 ... 0 0 0]\n",
      "  [0 0 0 ... 0 0 0]\n",
      "  [0 0 0 ... 0 0 0]\n",
      "  ...\n",
      "  [0 0 0 ... 0 0 0]\n",
      "  [0 0 0 ... 0 0 0]\n",
      "  [0 0 0 ... 0 0 0]]\n",
      "\n",
      " [[0 0 0 ... 0 0 0]\n",
      "  [0 0 0 ... 0 0 0]\n",
      "  [0 0 0 ... 0 0 0]\n",
      "  ...\n",
      "  [0 0 0 ... 0 0 0]\n",
      "  [0 0 0 ... 0 0 0]\n",
      "  [0 0 0 ... 0 0 0]]\n",
      "\n",
      " [[0 0 0 ... 0 0 0]\n",
      "  [0 0 0 ... 0 0 0]\n",
      "  [0 0 0 ... 0 0 0]\n",
      "  ...\n",
      "  [0 0 0 ... 0 0 0]\n",
      "  [0 0 0 ... 0 0 0]\n",
      "  [0 0 0 ... 0 0 0]]]\n"
     ]
    }
   ],
   "source": [
    "file_directory='../Preprocess/data_after/'\n",
    "\n",
    "\n",
    "(X_train, y_train), (X_test, y_test) = mnist.load_data() \n",
    "print(X_test)"
   ]
  },
  {
   "cell_type": "code",
   "execution_count": 20,
   "id": "3529abb8",
   "metadata": {},
   "outputs": [
    {
     "name": "stdout",
     "output_type": "stream",
     "text": [
      "(26410, 12)\n"
     ]
    },
    {
     "data": {
      "text/plain": [
       "array([['Top', 'Daki', 'NiJun o-mFuro', 'Rumble', 1],\n",
       "       ['Jungle', 'Wetch', 'NiJun o-mFuro', 'Jarvan IV', 1],\n",
       "       ['Middle', 'Gguung', 'NiJun o-mFuro', 'Zed', 1],\n",
       "       ...,\n",
       "       ['Middle', 'FETI', 'Luuv SINDBAX', 'Lucian', 0],\n",
       "       ['ADC', 'Pronci', 'Luuv SINDBAX', 'Samira', 0],\n",
       "       ['Support', 'Iffurt', 'Luuv SINDBAX', 'Nautilus', 0]], dtype=object)"
      ]
     },
     "execution_count": 20,
     "metadata": {},
     "output_type": "execute_result"
    }
   ],
   "source": [
    "data=pd.read_csv(\"{0}match.csv\".format(file_directory))\n",
    "data = data.to_numpy()\n",
    "X_train\n",
    "print(data.shape)\n",
    "X_train = data[:,7:12]\n",
    "X_train"
   ]
  },
  {
   "cell_type": "code",
   "execution_count": 17,
   "id": "69f27927",
   "metadata": {},
   "outputs": [
    {
     "name": "stdout",
     "output_type": "stream",
     "text": [
      "(60000, 28, 28)\n"
     ]
    }
   ],
   "source": [
    "num_of_train_samples = X_train.shape[0] \n",
    "width = X_train.shape[1]    \n"
   ]
  },
  {
   "cell_type": "code",
   "execution_count": 9,
   "id": "c976fa34",
   "metadata": {},
   "outputs": [],
   "source": [
    "num_of_test_samples = X_test.shape[0]  \n",
    "X_test = X_test.reshape(num_of_test_samples, width * height)\n",
    "\n",
    "X_train = X_train.astype(np.float64) \n",
    "X_test = X_test.astype(np.float64) "
   ]
  },
  {
   "cell_type": "code",
   "execution_count": 10,
   "id": "bd82f08e",
   "metadata": {},
   "outputs": [],
   "source": [
    "X_train = minmax_scale(X_train, feature_range=(0, 1), axis=0) \n",
    "X_test = minmax_scale(X_test, feature_range=(0, 1), axis=0) \n",
    "y_train = to_categorical(y_train) \n",
    "y_test = to_categorical(y_test)\n"
   ]
  },
  {
   "cell_type": "code",
   "execution_count": 11,
   "id": "3aeb970f",
   "metadata": {},
   "outputs": [],
   "source": [
    "model = Sequential()"
   ]
  },
  {
   "cell_type": "code",
   "execution_count": 13,
   "id": "9405adad",
   "metadata": {},
   "outputs": [],
   "source": [
    "#input layer\n",
    "model.add(Dense(256, input_dim=width * height, kernel_initializer='glorot_uniform', activation='relu'))\n",
    "model.add(Dropout(0.3)) "
   ]
  },
  {
   "cell_type": "code",
   "execution_count": 14,
   "id": "bad63f62",
   "metadata": {},
   "outputs": [],
   "source": [
    "#hidden layer 1\n",
    "model.add(Dense(256, kernel_initializer='glorot_uniform', activation='relu'))\n",
    "model.add(Dropout(0.3))"
   ]
  },
  {
   "cell_type": "code",
   "execution_count": 15,
   "id": "14a6273e",
   "metadata": {},
   "outputs": [],
   "source": [
    "#hidden layer 2\n",
    "model.add(Dense(256, kernel_initializer='glorot_uniform', activation='relu')) \n",
    "model.add(Dropout(0.3))\n",
    "\n"
   ]
  },
  {
   "cell_type": "code",
   "execution_count": 16,
   "id": "7d0bbaed",
   "metadata": {},
   "outputs": [],
   "source": [
    "#hidden layer 3\n",
    "model.add(Dense(256, kernel_initializer='glorot_uniform', activation='relu')) \n",
    "model.add(Dropout(0.3))\n"
   ]
  },
  {
   "cell_type": "code",
   "execution_count": 17,
   "id": "46751457",
   "metadata": {},
   "outputs": [],
   "source": [
    "number_of_class = 10 \n",
    "model.add(Dense(number_of_class, activation='softmax'))\n",
    "\n",
    "model.compile(loss='categorical_crossentropy', optimizer='adam', metrics=['accuracy'])"
   ]
  },
  {
   "cell_type": "code",
   "execution_count": 19,
   "id": "a71e003f",
   "metadata": {},
   "outputs": [
    {
     "name": "stdout",
     "output_type": "stream",
     "text": [
      "Epoch 1/15\n",
      "600/600 [==============================] - 2s 3ms/step - loss: 0.3924 - accuracy: 0.8773\n",
      "Epoch 2/15\n",
      "600/600 [==============================] - 2s 3ms/step - loss: 0.1747 - accuracy: 0.9494\n",
      "Epoch 3/15\n",
      "600/600 [==============================] - 2s 3ms/step - loss: 0.1352 - accuracy: 0.9612\n",
      "Epoch 4/15\n",
      "600/600 [==============================] - 2s 3ms/step - loss: 0.1153 - accuracy: 0.9671\n",
      "Epoch 5/15\n",
      "600/600 [==============================] - 2s 3ms/step - loss: 0.1014 - accuracy: 0.9701\n",
      "Epoch 6/15\n",
      "600/600 [==============================] - 2s 3ms/step - loss: 0.0911 - accuracy: 0.9735\n",
      "Epoch 7/15\n",
      "600/600 [==============================] - 2s 3ms/step - loss: 0.0855 - accuracy: 0.9750\n",
      "Epoch 8/15\n",
      "600/600 [==============================] - 2s 3ms/step - loss: 0.0785 - accuracy: 0.9772\n",
      "Epoch 9/15\n",
      "600/600 [==============================] - 2s 3ms/step - loss: 0.0708 - accuracy: 0.9787\n",
      "Epoch 10/15\n",
      "600/600 [==============================] - 2s 3ms/step - loss: 0.0673 - accuracy: 0.9801\n",
      "Epoch 11/15\n",
      "600/600 [==============================] - 2s 3ms/step - loss: 0.0653 - accuracy: 0.9809\n",
      "Epoch 12/15\n",
      "600/600 [==============================] - 1s 2ms/step - loss: 0.0594 - accuracy: 0.9820\n",
      "Epoch 13/15\n",
      "600/600 [==============================] - 1s 2ms/step - loss: 0.0603 - accuracy: 0.9817\n",
      "Epoch 14/15\n",
      "600/600 [==============================] - 2s 3ms/step - loss: 0.0558 - accuracy: 0.9827\n",
      "Epoch 15/15\n",
      "600/600 [==============================] - 2s 3ms/step - loss: 0.0539 - accuracy: 0.9840\n"
     ]
    },
    {
     "data": {
      "text/plain": [
       "<keras.callbacks.History at 0x266046cc2b0>"
      ]
     },
     "execution_count": 19,
     "metadata": {},
     "output_type": "execute_result"
    }
   ],
   "source": [
    "training_epochs = 15 \n",
    "batch_size = 100 \n",
    "model.fit(X_train, y_train, epochs=training_epochs, batch_size=batch_size)\n"
   ]
  },
  {
   "cell_type": "code",
   "execution_count": 20,
   "id": "e4d927c8",
   "metadata": {},
   "outputs": [
    {
     "name": "stdout",
     "output_type": "stream",
     "text": [
      "100/100 [==============================] - 0s 950us/step - loss: 0.0749 - accuracy: 0.9809\n",
      "Accuracy: 0.98089998960495\n"
     ]
    }
   ],
   "source": [
    "evaluation = model.evaluate(X_test, y_test, batch_size=batch_size) \n",
    "print('Accuracy: ' + str(evaluation[1]))\n"
   ]
  },
  {
   "cell_type": "code",
   "execution_count": null,
   "id": "60a2b3fb",
   "metadata": {},
   "outputs": [],
   "source": []
  }
 ],
 "metadata": {
  "kernelspec": {
   "display_name": "Python 3",
   "language": "python",
   "name": "python3"
  },
  "language_info": {
   "codemirror_mode": {
    "name": "ipython",
    "version": 3
   },
   "file_extension": ".py",
   "mimetype": "text/x-python",
   "name": "python",
   "nbconvert_exporter": "python",
   "pygments_lexer": "ipython3",
   "version": "3.8.8"
  }
 },
 "nbformat": 4,
 "nbformat_minor": 5
}
