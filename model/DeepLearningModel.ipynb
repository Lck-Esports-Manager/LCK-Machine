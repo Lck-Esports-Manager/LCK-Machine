{
 "cells": [
  {
   "cell_type": "code",
   "execution_count": 122,
   "id": "2ee89896",
   "metadata": {},
   "outputs": [],
   "source": [
    "from keras.datasets import mnist\n",
    "from keras.utils.np_utils import to_categorical \n",
    "import numpy as np \n",
    "import pandas as pd\n",
    "\n",
    "from sklearn.preprocessing import minmax_scale \n",
    "from sklearn.model_selection import train_test_split\n",
    "\n",
    "from tensorflow.keras.models import Model\n",
    "\n",
    "from keras.models import Sequential \n",
    "from keras.layers import Input,Dense, Dropout, Activation, Flatten, concatenate\n",
    "from tensorflow.keras.optimizers import Adam"
   ]
  },
  {
   "cell_type": "code",
   "execution_count": 123,
   "id": "bead6f80",
   "metadata": {},
   "outputs": [],
   "source": [
    "file_directory='../Preprocess/data_after/'\n",
    "#opposite과 my_team에 대한 변수를 두어 그 값이 1이면 내 팀, 0이면 다른 팀 인 방식으로 구현\n",
    "#테스트 데이터는 match.csv의 result attribute를 사용\n",
    "#train_data에 사용되는 데이터는 player1.csv의 선수의 티어 값을 이용\n"
   ]
  },
  {
   "cell_type": "code",
   "execution_count": 124,
   "id": "248de5e1",
   "metadata": {},
   "outputs": [
    {
     "name": "stdout",
     "output_type": "stream",
     "text": [
      "[[ 0.  1. 10.]\n",
      " [ 0.  0.  4.]\n",
      " [ 0.  1. 10.]\n",
      " ...\n",
      " [ 4.  1. 10.]\n",
      " [ 3.  1.  8.]\n",
      " [ 0.  0.  2.]]\n",
      "(5282,)\n",
      "[0. 0. 0. ... 4. 3. 0.]\n",
      "(5282, 3)\n"
     ]
    }
   ],
   "source": [
    "#match.csv 파일을 읽어서 팀의 승패 결과를 test 데이터로 활용\n",
    "data=pd.read_csv(\"{0}match2.csv\".format(file_directory))\n",
    "\n",
    "\n",
    "\n",
    "data= data.loc[:,['gameid','side','result','dragons','barons','towers']]\n",
    "\n",
    "\n",
    "X_train = data[['dragons','barons','towers']]\n",
    "y_train = data['result']\n",
    "\n",
    "\n",
    "#X_train 데이터와 y_train 데이터를 numpy 배열로 변환\n",
    "X_train = X_train.to_numpy()\n",
    "y_train = y_train.to_numpy()\n",
    "\n",
    "print(X_train)\n",
    "\n",
    "dragons_train = X_train[:,0]\n",
    "print(dragons_train.shape)\n",
    "\n",
    "print(dragons_train)\n",
    "\n",
    "#train 데이터의 0번열을 dragons_train에 저장\n",
    "dragons_train_blue = X_train[0::2,0]\n",
    "#train 데이터의 1번 열을 barons_train에 저장\n",
    "barons_train_blue = X_train[0::2,1]\n",
    "#towers 데이터의 2번 열을 towers_train에 저장\n",
    "towers_train_blue = X_train[0::2,2]\n",
    "\n",
    "\n",
    "#num = dragons_train_blue.shape[0]-1\n",
    "#dragons_train_blue = dragons_train_blue[0:num]\n",
    "#barons_train_blue = dragons_train_blue[0:num]\n",
    "#towers_train_blue = dragons_train_blue[0:num]\n",
    "\n",
    "\n",
    "#train 데이터의 0번열을 dragons_train에 저장\n",
    "dragons_train_red = X_train[1::2,0]\n",
    "#train 데이터의 1번 열을 barons_train에 저장\n",
    "barons_train_red = X_train[1::2,1]\n",
    "#towers 데이터의 2번 열을 towers_train에 저장\n",
    "towers_train_red = X_train[1::2,2]\n",
    "\n",
    "dragons_train = np.zeros_like(dragons_train)\n",
    "barons_train = np.zeros_like(dragons_train)\n",
    "towers_train= np.zeros_like(dragons_train)\n",
    "\n",
    "\n",
    "dragons_train[0::2]= dragons_train_blue - dragons_train_red\n",
    "barons_train[0::2] = barons_train_blue - barons_train_red\n",
    "towers_train[0::2]= towers_train_blue - towers_train_red\n",
    "\n",
    "dragons_train[1::2]= dragons_train_red - dragons_train_blue\n",
    "barons_train[1::2] = barons_train_red - barons_train_blue\n",
    "towers_train[1::2]= towers_train_red - towers_train_blue\n",
    "\n",
    "\n",
    "X_train[:,0] = dragons_train\n",
    "X_train[:,1] = barons_train\n",
    "X_train[:,2] = towers_train\n",
    "\n",
    "print(X_train.shape)\n",
    "\n",
    "#x_train 데이터와 y_train 데이터로부터 x_test, y_test라는 테스트 데이터를 전체에서 20% 추출\n",
    "x_train, x_test, y_train, y_test = train_test_split(X_train, y_train, random_state=66, test_size=0.2)\n"
   ]
  },
  {
   "cell_type": "code",
   "execution_count": 125,
   "id": "aff5ce62",
   "metadata": {},
   "outputs": [
    {
     "name": "stdout",
     "output_type": "stream",
     "text": [
      "(4225,)\n"
     ]
    }
   ],
   "source": [
    "#세개의 데이터를 벡터 형태로 변환\n",
    "dragons_train = x_train[:,0]\n",
    "barons_train = x_train[:,1]\n",
    "towers_train = x_train[:,2]\n",
    "\n",
    "print(dragons_train.shape)\n",
    "\n",
    "dragons_test = x_test[:,0]\n",
    "barons_test = x_test[:,1]\n",
    "towers_test = x_test[:,2]\n",
    "\n",
    "dragons_train = np.asarray(dragons_train).astype('float32').reshape((-1,1))\n",
    "barons_train = np.asarray(barons_train).astype('float32').reshape((-1,1))\n",
    "towers_train = np.asarray(towers_train).astype('float32').reshape((-1,1))\n",
    "\n",
    "dragons_test = np.asarray(dragons_test).astype('float32').reshape((-1,1))\n",
    "barons_test = np.asarray(barons_test).astype('float32').reshape((-1,1))\n",
    "towers_test = np.asarray(towers_test).astype('float32').reshape((-1,1))"
   ]
  },
  {
   "cell_type": "code",
   "execution_count": 126,
   "id": "3aeb970f",
   "metadata": {},
   "outputs": [
    {
     "name": "stdout",
     "output_type": "stream",
     "text": [
      "(4225, 1)\n",
      "(4225, 1)\n"
     ]
    }
   ],
   "source": [
    "#y 테스트 값과 트레인 데이터를 벡터 형태로 변환\n",
    "y_train = np.asarray(y_train).astype('float32').reshape((-1,1))\n",
    "y_test = np.asarray(y_test).astype('float32').reshape((-1,1))\n",
    "\n",
    "print(dragons_train.shape)\n",
    "print(y_train.shape)\n",
    "\n",
    "#다중 입력 모델 구현을 위한 input의 shape 형태를 정의\n",
    "inputA = Input(shape=(None,1))\n",
    "inputB = Input(shape=(None,1))\n",
    "inputC = Input(shape=(None,1))"
   ]
  },
  {
   "cell_type": "code",
   "execution_count": 127,
   "id": "f538536d",
   "metadata": {},
   "outputs": [],
   "source": [
    "\n",
    "\n",
    "#inputA는 드래곤 처치수를 입력으로 받는다\n",
    "#드래곤 처치수에 대한 레이어\n",
    "x = Dense(64, activation=\"relu\")(inputA)\n",
    "x = Dense(32, activation=\"relu\")(x)\n",
    "x = Dense(8, activation=\"relu\")(x)                           \n",
    "x = Model(inputs=inputA, outputs=x)\n",
    "\n",
    "#inputB는 바론 처치수를 입력으로 받는다\n",
    "#바론 처치수를 처리하는 레이어 \n",
    "y = Dense(64, activation=\"relu\")(inputB)\n",
    "y = Dense(32, activation=\"relu\")(y)\n",
    "y = Dense(8, activation=\"relu\")(y)\n",
    "y = Model(inputs=inputB, outputs=y)\n",
    " \n",
    "#inputC는 타워 철거 수를 입력으로 받는다\n",
    "z = Dense(64, activation=\"relu\")(inputC)\n",
    "z = Dense(32, activation=\"relu\")(z)\n",
    "z = Dense(8, activation=\"relu\")(z)\n",
    "z = Model(inputs=inputC, outputs=z)\n",
    " \n",
    "    \n",
    "#x,y,z 각각 모델에 대해 도출된 결과값들을 합친다.\n",
    "result = concatenate([x.output, y.output,z.output])\n",
    "\n",
    "\n",
    "#결과값을 바탕으로 한 다중 입력 모델을 설계\n",
    "k = Dense(2, activation=\"relu\")(result)\n",
    "#binary classification을 위해 activation function을 sigmoid로 결정\n",
    "k = Dense(1, activation=\"sigmoid\")(k)\n",
    "\n"
   ]
  },
  {
   "cell_type": "code",
   "execution_count": 128,
   "id": "e669e5ab",
   "metadata": {},
   "outputs": [
    {
     "name": "stdout",
     "output_type": "stream",
     "text": [
      "KerasTensor(type_spec=TensorSpec(shape=(None, None, 1), dtype=tf.float32, name='input_58'), name='input_58', description=\"created by layer 'input_58'\")\n",
      "Epoch 1/30\n",
      "43/43 [==============================] - 1s 810us/step - loss: 0.6867 - accuracy: 0.5060\n",
      "Epoch 2/30\n",
      "43/43 [==============================] - 0s 714us/step - loss: 0.5088 - accuracy: 0.5449\n",
      "Epoch 3/30\n",
      "43/43 [==============================] - 0s 691us/step - loss: 0.4515 - accuracy: 0.6698\n",
      "Epoch 4/30\n",
      "43/43 [==============================] - 0s 714us/step - loss: 0.4253 - accuracy: 0.8253\n",
      "Epoch 5/30\n",
      "43/43 [==============================] - 0s 691us/step - loss: 0.4099 - accuracy: 0.8923\n",
      "Epoch 6/30\n",
      "43/43 [==============================] - 0s 691us/step - loss: 0.3994 - accuracy: 0.9207\n",
      "Epoch 7/30\n",
      "43/43 [==============================] - 0s 714us/step - loss: 0.3917 - accuracy: 0.9401\n",
      "Epoch 8/30\n",
      "43/43 [==============================] - 0s 691us/step - loss: 0.3855 - accuracy: 0.9503\n",
      "Epoch 9/30\n",
      "43/43 [==============================] - 0s 691us/step - loss: 0.3803 - accuracy: 0.9609\n",
      "Epoch 10/30\n",
      "43/43 [==============================] - 0s 691us/step - loss: 0.3757 - accuracy: 0.9654\n",
      "Epoch 11/30\n",
      "43/43 [==============================] - 0s 691us/step - loss: 0.3716 - accuracy: 0.9695\n",
      "Epoch 12/30\n",
      "43/43 [==============================] - 0s 786us/step - loss: 0.3678 - accuracy: 0.9721\n",
      "Epoch 13/30\n",
      "43/43 [==============================] - 0s 786us/step - loss: 0.3644 - accuracy: 0.9735\n",
      "Epoch 14/30\n",
      "43/43 [==============================] - 0s 834us/step - loss: 0.3612 - accuracy: 0.9751\n",
      "Epoch 15/30\n",
      "43/43 [==============================] - 0s 714us/step - loss: 0.3582 - accuracy: 0.9751\n",
      "Epoch 16/30\n",
      "43/43 [==============================] - 0s 714us/step - loss: 0.3553 - accuracy: 0.9763\n",
      "Epoch 17/30\n",
      "43/43 [==============================] - 0s 762us/step - loss: 0.3525 - accuracy: 0.9763\n",
      "Epoch 18/30\n",
      "43/43 [==============================] - 0s 714us/step - loss: 0.3498 - accuracy: 0.9770\n",
      "Epoch 19/30\n",
      "43/43 [==============================] - 0s 714us/step - loss: 0.3472 - accuracy: 0.9770\n",
      "Epoch 20/30\n",
      "43/43 [==============================] - 0s 714us/step - loss: 0.3447 - accuracy: 0.9770\n",
      "Epoch 21/30\n",
      "43/43 [==============================] - 0s 691us/step - loss: 0.3422 - accuracy: 0.9770\n",
      "Epoch 22/30\n",
      "43/43 [==============================] - 0s 714us/step - loss: 0.3398 - accuracy: 0.9770\n",
      "Epoch 23/30\n",
      "43/43 [==============================] - 0s 691us/step - loss: 0.3375 - accuracy: 0.9770\n",
      "Epoch 24/30\n",
      "43/43 [==============================] - 0s 691us/step - loss: 0.3353 - accuracy: 0.9770\n",
      "Epoch 25/30\n",
      "43/43 [==============================] - 0s 691us/step - loss: 0.3330 - accuracy: 0.9770\n",
      "Epoch 26/30\n",
      "43/43 [==============================] - 0s 691us/step - loss: 0.3309 - accuracy: 0.9770\n",
      "Epoch 27/30\n",
      "43/43 [==============================] - 0s 738us/step - loss: 0.3287 - accuracy: 0.9770\n",
      "Epoch 28/30\n",
      "43/43 [==============================] - 0s 691us/step - loss: 0.3266 - accuracy: 0.9770\n",
      "Epoch 29/30\n",
      "43/43 [==============================] - 0s 691us/step - loss: 0.3246 - accuracy: 0.9770\n",
      "Epoch 30/30\n",
      "43/43 [==============================] - 0s 714us/step - loss: 0.3226 - accuracy: 0.9770\n"
     ]
    },
    {
     "data": {
      "text/plain": [
       "<keras.callbacks.History at 0x1d54a5ee790>"
      ]
     },
     "execution_count": 128,
     "metadata": {},
     "output_type": "execute_result"
    }
   ],
   "source": [
    "#train 전체 반복 횟수를 30회\n",
    "training_epochs = 30 \n",
    "#일괄 처리 크기를 100으로 설정\n",
    "batch_size = 100 \n",
    "\n",
    "\n",
    "#x,y,z에 입력되는 입력값들을 입력으로 받고 output을 k로부터 도출된 결과를 받는 모델 설계\n",
    "model = Model(inputs=[x.input, y.input,z.input], outputs=k)\n",
    "print(x.input)\n",
    "\n",
    "#graident descent 알고리즘을 적용한다.\n",
    "model.compile(optimizer='sgd', loss = 'binary_crossentropy', metrics=['accuracy'])\n",
    "#learning rate 0.001로 설정\n",
    "model.optimizer.lr = 0.001\n",
    "\n",
    "#모델을 훈련 데이터를 이용해 학습시킨다.\n",
    "model.fit(x=[dragons_train,barons_train,towers_train], y=y_train, epochs = training_epochs, batch_size=batch_size)"
   ]
  },
  {
   "cell_type": "code",
   "execution_count": 115,
   "id": "60a2b3fb",
   "metadata": {},
   "outputs": [
    {
     "name": "stdout",
     "output_type": "stream",
     "text": [
      "11/11 [==============================] - 0s 700us/step - loss: 0.3428 - accuracy: 0.9669\n",
      "Accuracy: 0.9668874144554138\n"
     ]
    }
   ],
   "source": [
    "\n",
    "\n",
    "#설계된 모델을 바탕으로 테스트 데이터를 활용하여 정확도를 계산한다.\n",
    "evaluation = model.evaluate([dragons_test,barons_test,towers_test], y_test, batch_size=batch_size) \n",
    "\n",
    "#정확도가 얼마나 나오는지 출력해본다.\n",
    "print('Accuracy: ' + str(evaluation[1]))\n"
   ]
  },
  {
   "cell_type": "code",
   "execution_count": 116,
   "id": "aebc60cb",
   "metadata": {},
   "outputs": [],
   "source": [
    "def test_accuracy(model):\n",
    "    evaluation = model.evaluate([dragons_test,barons_test,towers_test], y_test, batch_size=batch_size)  \n",
    "    print('Accuracy: ' + str(evaluation[1]))\n"
   ]
  },
  {
   "cell_type": "code",
   "execution_count": 117,
   "id": "c44e4d31",
   "metadata": {},
   "outputs": [],
   "source": [
    "def save_model(model):\n",
    "    model.save('LCK.h5')\n",
    "    "
   ]
  },
  {
   "cell_type": "code",
   "execution_count": 118,
   "id": "e969b804",
   "metadata": {},
   "outputs": [
    {
     "name": "stdout",
     "output_type": "stream",
     "text": [
      "11/11 [==============================] - 0s 700us/step - loss: 0.3428 - accuracy: 0.9669\n",
      "Accuracy: 0.9668874144554138\n"
     ]
    }
   ],
   "source": [
    "test_accuracy(model)"
   ]
  },
  {
   "cell_type": "code",
   "execution_count": 119,
   "id": "ddb10c6c",
   "metadata": {},
   "outputs": [],
   "source": [
    "save_model(model)"
   ]
  },
  {
   "cell_type": "code",
   "execution_count": null,
   "id": "36cbe79d",
   "metadata": {},
   "outputs": [],
   "source": []
  }
 ],
 "metadata": {
  "kernelspec": {
   "display_name": "Python 3",
   "language": "python",
   "name": "python3"
  },
  "language_info": {
   "codemirror_mode": {
    "name": "ipython",
    "version": 3
   },
   "file_extension": ".py",
   "mimetype": "text/x-python",
   "name": "python",
   "nbconvert_exporter": "python",
   "pygments_lexer": "ipython3",
   "version": "3.8.8"
  }
 },
 "nbformat": 4,
 "nbformat_minor": 5
}
