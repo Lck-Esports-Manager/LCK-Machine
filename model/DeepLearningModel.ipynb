{
 "cells": [
  {
   "cell_type": "code",
   "execution_count": 105,
   "id": "2ee89896",
   "metadata": {},
   "outputs": [],
   "source": [
    "from keras.datasets import mnist\n",
    "from keras.utils.np_utils import to_categorical \n",
    "import numpy as np \n",
    "import pandas as pd\n",
    "\n",
    "from sklearn.preprocessing import minmax_scale \n",
    "from sklearn.model_selection import train_test_split\n",
    "\n",
    "from tensorflow.keras.models import Model\n",
    "\n",
    "from keras.models import Sequential \n",
    "from keras.layers import Input,Dense, Dropout, Activation, Flatten, concatenate\n",
    "from tensorflow.keras.optimizers import Adam"
   ]
  },
  {
   "cell_type": "code",
   "execution_count": 106,
   "id": "bead6f80",
   "metadata": {},
   "outputs": [],
   "source": [
    "file_directory='../Preprocess/data_after/'\n",
    "#opposite과 my_team에 대한 변수를 두어 그 값이 1이면 내 팀, 0이면 다른 팀 인 방식으로 구현\n",
    "#테스트 데이터는 match.csv의 result attribute를 사용\n",
    "#train_data에 사용되는 데이터는 player1.csv의 선수의 티어 값을 이용\n"
   ]
  },
  {
   "cell_type": "code",
   "execution_count": 107,
   "id": "248de5e1",
   "metadata": {},
   "outputs": [
    {
     "name": "stdout",
     "output_type": "stream",
     "text": [
      "[63835. 63981. 38886. ... 80565. 45316. 50240.]\n",
      "1115.9291934873154\n",
      "12092.127481728163\n",
      "(5282, 4)\n",
      "[[  0.           1.           6.          12.58262521]\n",
      " [  0.          -1.          -6.          12.58262521]\n",
      " [  0.           1.           8.          13.6601858 ]\n",
      " ...\n",
      " [  4.           1.          10.         -11.93415238]\n",
      " [  3.           1.           6.           6.95913173]\n",
      " [ -3.          -1.          -6.           6.95913173]]\n"
     ]
    }
   ],
   "source": [
    "def normalize(df_input):\n",
    "    print(df_input.mean())\n",
    "    print(df_input.std())\n",
    "    return (df_input - df_input.mean()) / df_input.std()\n",
    "\n",
    "#match.csv 파일을 읽어서 팀의 승패 결과를 test 데이터로 활용\n",
    "data=pd.read_csv(\"{0}match2.csv\".format(file_directory))\n",
    "\n",
    "\n",
    "\n",
    "data= data.loc[:,['gameid','side','result','dragons','barons','towers','totalgold']]\n",
    "\n",
    "X_train = data[['dragons','barons','towers','totalgold']]\n",
    "\n",
    "totalgold = X_train['totalgold']\n",
    "\n",
    "y_train = data['result']\n",
    "\n",
    "\n",
    "#X_train 데이터와 y_train 데이터를 numpy 배열로 변환\n",
    "X_train = X_train.to_numpy()\n",
    "y_train = y_train.to_numpy()\n",
    "\n",
    "dragons_train = X_train[:,0]\n",
    "\n",
    "#train 데이터의 0번열을 dragons_train에 저장\n",
    "dragons_train_blue = X_train[0::2,0]\n",
    "#train 데이터의 1번 열을 barons_train에 저장\n",
    "barons_train_blue = X_train[0::2,1]\n",
    "#towers 데이터의 2번 열을 towers_train에 저장\n",
    "towers_train_blue = X_train[0::2,2]\n",
    "\n",
    "totalgold_train_blue= X_train[0::2,3]\n",
    "print(totalgold_train_blue)\n",
    "#num = dragons_train_blue.shape[0]-1\n",
    "#dragons_train_blue = dragons_train_blue[0:num]\n",
    "#barons_train_blue = dragons_train_blue[0:num]\n",
    "#towers_train_blue = dragons_train_blue[0:num]\n",
    "\n",
    "\n",
    "#train 데이터의 0번열을 dragons_train에 저장\n",
    "dragons_train_red = X_train[1::2,0]\n",
    "#train 데이터의 1번 열을 barons_train에 저장\n",
    "barons_train_red = X_train[1::2,1]\n",
    "#towers 데이터의 2번 열을 towers_train에 저장\n",
    "towers_train_red = X_train[1::2,2]\n",
    "\n",
    "totalgold_train_red = X_train[1::2,3]\n",
    "\n",
    "dragons_train = np.zeros_like(dragons_train)\n",
    "barons_train = np.zeros_like(dragons_train)\n",
    "towers_train= np.zeros_like(dragons_train)\n",
    "totalgold_train= np.zeros_like(dragons_train)\n",
    "\n",
    "dragons_train[0::2]= dragons_train_blue - dragons_train_red\n",
    "barons_train[0::2] = barons_train_blue - barons_train_red\n",
    "towers_train[0::2]= towers_train_blue - towers_train_red\n",
    "totalgold_train[0::2] = totalgold_train_blue-totalgold_train_red\n",
    "\n",
    "\n",
    "dragons_train[1::2]= dragons_train_red - dragons_train_blue\n",
    "barons_train[1::2] = barons_train_red - barons_train_blue\n",
    "towers_train[1::2]= towers_train_red - towers_train_blue\n",
    "totalgold_train[1::2] = totalgold_train_blue-totalgold_train_red\n",
    "\n",
    "totalgold_train = normalize(totalgold_train)*10\n",
    "\n",
    "X_train[:,0] = dragons_train\n",
    "X_train[:,1] = barons_train\n",
    "X_train[:,2] = towers_train\n",
    "X_train[:,3] = totalgold_train\n",
    "\n",
    "print(X_train.shape)\n",
    "print(X_train)\n",
    "#x_train 데이터와 y_train 데이터로부터 x_test, y_test라는 테스트 데이터를 전체에서 20% 추출\n",
    "x_train, x_test, y_train, y_test = train_test_split(X_train, y_train, random_state=66, test_size=0.2)\n"
   ]
  },
  {
   "cell_type": "code",
   "execution_count": 96,
   "id": "aff5ce62",
   "metadata": {},
   "outputs": [
    {
     "name": "stdout",
     "output_type": "stream",
     "text": [
      "(4225,)\n"
     ]
    }
   ],
   "source": [
    "#세개의 데이터를 벡터 형태로 변환\n",
    "dragons_train = x_train[:,0]\n",
    "barons_train = x_train[:,1]\n",
    "towers_train = x_train[:,2]\n",
    "totalgold_train = x_train[:,3]\n",
    "print(dragons_train.shape)\n",
    "\n",
    "dragons_test = x_test[:,0]\n",
    "barons_test = x_test[:,1]\n",
    "towers_test = x_test[:,2]\n",
    "totalgold_test = x_test[:,3]\n",
    "\n",
    "dragons_train = np.asarray(dragons_train).astype('float32').reshape((-1,1))\n",
    "barons_train = np.asarray(barons_train).astype('float32').reshape((-1,1))\n",
    "towers_train = np.asarray(towers_train).astype('float32').reshape((-1,1))\n",
    "totalgold_train = np.asarray(towers_train).astype('float32').reshape((-1,1))\n",
    "\n",
    "\n",
    "dragons_test = np.asarray(dragons_test).astype('float32').reshape((-1,1))\n",
    "barons_test = np.asarray(barons_test).astype('float32').reshape((-1,1))\n",
    "towers_test = np.asarray(towers_test).astype('float32').reshape((-1,1))\n",
    "totalgold_test = np.asarray(totalgold_test).astype('float32').reshape((-1,1))"
   ]
  },
  {
   "cell_type": "code",
   "execution_count": 97,
   "id": "3aeb970f",
   "metadata": {},
   "outputs": [
    {
     "name": "stdout",
     "output_type": "stream",
     "text": [
      "[[  0.           1.           6.          12.58262521]\n",
      " [  0.          -1.          -6.          12.58262521]\n",
      " [  0.           1.           8.          13.6601858 ]\n",
      " ...\n",
      " [  4.           1.          10.         -11.93415238]\n",
      " [  3.           1.           6.           6.95913173]\n",
      " [ -3.          -1.          -6.           6.95913173]]\n",
      "[[0.]\n",
      " [1.]\n",
      " [0.]\n",
      " ...\n",
      " [0.]\n",
      " [0.]\n",
      " [0.]]\n",
      "(1057, 1)\n"
     ]
    }
   ],
   "source": [
    "#y 테스트 값과 트레인 데이터를 벡터 형태로 변환\n",
    "y_train = np.asarray(y_train).astype('float32').reshape((-1,1))\n",
    "y_test = np.asarray(y_test).astype('float32').reshape((-1,1))\n",
    "\n",
    "print(X_train)\n",
    "print(y_train)\n",
    "print(y_test.shape)\n",
    "#다중 입력 모델 구현을 위한 input의 shape 형태를 정의\n",
    "inputA = Input(shape=(None,1))\n",
    "inputB = Input(shape=(None,1))\n",
    "inputC = Input(shape=(None,1))\n",
    "inputD = Input(shape=(None,1))"
   ]
  },
  {
   "cell_type": "code",
   "execution_count": 98,
   "id": "f538536d",
   "metadata": {},
   "outputs": [],
   "source": [
    "\n",
    "\n",
    "#inputA는 드래곤 처치수를 입력으로 받는다\n",
    "#드래곤 처치수에 대한 레이어\n",
    "x = Dense(64, activation=\"relu\")(inputA)\n",
    "x = Dense(32, activation=\"relu\")(x)\n",
    "x = Dense(8, activation=\"relu\")(x)                           \n",
    "x = Model(inputs=inputA, outputs=x)\n",
    "\n",
    "#inputB는 바론 처치수를 입력으로 받는다\n",
    "#바론 처치수를 처리하는 레이어 \n",
    "y = Dense(64, activation=\"relu\")(inputB)\n",
    "y = Dense(32, activation=\"relu\")(y)\n",
    "y = Dense(8, activation=\"relu\")(y)\n",
    "y = Model(inputs=inputB, outputs=y)\n",
    " \n",
    "#inputC는 타워 철거 수를 입력으로 받는다\n",
    "z = Dense(64, activation=\"relu\")(inputC)\n",
    "z = Dense(32, activation=\"relu\")(z)\n",
    "z = Dense(8, activation=\"relu\")(z)\n",
    "z = Model(inputs=inputC, outputs=z)\n",
    "\n",
    "a = Dense(64, activation=\"relu\")(inputD)\n",
    "a = Dense(32, activation=\"relu\")(a)\n",
    "a = Dense(8, activation=\"relu\")(a)\n",
    "a = Model(inputs=inputD, outputs=a)\n",
    "\n",
    "    \n",
    "#x,y,z 각각 모델에 대해 도출된 결과값들을 합친다.\n",
    "result = concatenate([x.output, y.output,z.output,a.output])\n",
    "\n",
    "\n",
    "#결과값을 바탕으로 한 다중 입력 모델을 설계\n",
    "k = Dense(2, activation=\"relu\")(result)\n",
    "#binary classification을 위해 activation function을 sigmoid로 결정\n",
    "k = Dense(1, activation=\"sigmoid\")(k)\n",
    "\n"
   ]
  },
  {
   "cell_type": "code",
   "execution_count": 99,
   "id": "e669e5ab",
   "metadata": {},
   "outputs": [
    {
     "name": "stdout",
     "output_type": "stream",
     "text": [
      "Epoch 1/30\n",
      "43/43 [==============================] - 1s 714us/step - loss: 0.4261 - accuracy: 0.9740\n",
      "Epoch 2/30\n",
      "43/43 [==============================] - 0s 786us/step - loss: 0.3580 - accuracy: 0.9744\n",
      "Epoch 3/30\n",
      "43/43 [==============================] - 0s 881us/step - loss: 0.3089 - accuracy: 0.9754\n",
      "Epoch 4/30\n",
      "43/43 [==============================] - 0s 929us/step - loss: 0.2708 - accuracy: 0.9756\n",
      "Epoch 5/30\n",
      "43/43 [==============================] - 0s 786us/step - loss: 0.2378 - accuracy: 0.9763\n",
      "Epoch 6/30\n",
      "43/43 [==============================] - 0s 786us/step - loss: 0.2110 - accuracy: 0.9768\n",
      "Epoch 7/30\n",
      "43/43 [==============================] - 0s 738us/step - loss: 0.1896 - accuracy: 0.9768\n",
      "Epoch 8/30\n",
      "43/43 [==============================] - 0s 738us/step - loss: 0.1725 - accuracy: 0.9768\n",
      "Epoch 9/30\n",
      "43/43 [==============================] - 0s 738us/step - loss: 0.1586 - accuracy: 0.9768\n",
      "Epoch 10/30\n",
      "43/43 [==============================] - 0s 810us/step - loss: 0.1470 - accuracy: 0.9766\n",
      "Epoch 11/30\n",
      "43/43 [==============================] - 0s 929us/step - loss: 0.1372 - accuracy: 0.9763\n",
      "Epoch 12/30\n",
      "43/43 [==============================] - 0s 857us/step - loss: 0.1290 - accuracy: 0.9763\n",
      "Epoch 13/30\n",
      "43/43 [==============================] - 0s 762us/step - loss: 0.1219 - accuracy: 0.9763\n",
      "Epoch 14/30\n",
      "43/43 [==============================] - 0s 691us/step - loss: 0.1159 - accuracy: 0.9763\n",
      "Epoch 15/30\n",
      "43/43 [==============================] - 0s 762us/step - loss: 0.1106 - accuracy: 0.9768\n",
      "Epoch 16/30\n",
      "43/43 [==============================] - 0s 738us/step - loss: 0.1060 - accuracy: 0.9768\n",
      "Epoch 17/30\n",
      "43/43 [==============================] - 0s 738us/step - loss: 0.1020 - accuracy: 0.9768\n",
      "Epoch 18/30\n",
      "43/43 [==============================] - 0s 738us/step - loss: 0.0984 - accuracy: 0.9768\n",
      "Epoch 19/30\n",
      "43/43 [==============================] - 0s 714us/step - loss: 0.0953 - accuracy: 0.9770\n",
      "Epoch 20/30\n",
      "43/43 [==============================] - 0s 738us/step - loss: 0.0924 - accuracy: 0.9770\n",
      "Epoch 21/30\n",
      "43/43 [==============================] - 0s 714us/step - loss: 0.0899 - accuracy: 0.9770\n",
      "Epoch 22/30\n",
      "43/43 [==============================] - 0s 738us/step - loss: 0.0876 - accuracy: 0.9773\n",
      "Epoch 23/30\n",
      "43/43 [==============================] - 0s 762us/step - loss: 0.0856 - accuracy: 0.9773\n",
      "Epoch 24/30\n",
      "43/43 [==============================] - 0s 834us/step - loss: 0.0838 - accuracy: 0.9773\n",
      "Epoch 25/30\n",
      "43/43 [==============================] - 0s 786us/step - loss: 0.0821 - accuracy: 0.9773\n",
      "Epoch 26/30\n",
      "43/43 [==============================] - 0s 786us/step - loss: 0.0806 - accuracy: 0.9773\n",
      "Epoch 27/30\n",
      "43/43 [==============================] - 0s 786us/step - loss: 0.0792 - accuracy: 0.9773\n",
      "Epoch 28/30\n",
      "43/43 [==============================] - 0s 786us/step - loss: 0.0779 - accuracy: 0.9773\n",
      "Epoch 29/30\n",
      "43/43 [==============================] - 0s 762us/step - loss: 0.0767 - accuracy: 0.9773\n",
      "Epoch 30/30\n",
      "43/43 [==============================] - 0s 810us/step - loss: 0.0756 - accuracy: 0.9773\n"
     ]
    },
    {
     "data": {
      "text/plain": [
       "<keras.callbacks.History at 0x175fee4a6a0>"
      ]
     },
     "execution_count": 99,
     "metadata": {},
     "output_type": "execute_result"
    }
   ],
   "source": [
    "#train 전체 반복 횟수를 30회\n",
    "training_epochs = 30 \n",
    "#일괄 처리 크기를 100으로 설정\n",
    "batch_size = 100 \n",
    "\n",
    "\n",
    "#x,y,z에 입력되는 입력값들을 입력으로 받고 output을 k로부터 도출된 결과를 받는 모델 설계\n",
    "model = Model(inputs=[x.input, y.input,z.input,a.input], outputs=k)\n",
    "\n",
    "#graident descent 알고리즘을 적용한다.\n",
    "model.compile(optimizer='sgd', loss = 'binary_crossentropy', metrics=['accuracy'])\n",
    "#learning rate 0.001로 설정\n",
    "model.optimizer.lr = 0.001\n",
    "\n",
    "#모델을 훈련 데이터를 이용해 학습시킨다.\n",
    "model.fit(x=[dragons_train,barons_train,towers_train,totalgold_train], y=y_train, epochs = training_epochs, batch_size=batch_size)"
   ]
  },
  {
   "cell_type": "code",
   "execution_count": 100,
   "id": "60a2b3fb",
   "metadata": {},
   "outputs": [
    {
     "name": "stdout",
     "output_type": "stream",
     "text": [
      "(1057, 1)\n",
      "(1057, 1)\n",
      "11/11 [==============================] - 0s 800us/step - loss: 0.2459 - accuracy: 0.9224\n",
      "Accuracy: 0.922421932220459\n"
     ]
    }
   ],
   "source": [
    "\n",
    "print(y_test.shape)\n",
    "print(dragons_test.shape)\n",
    "#설계된 모델을 바탕으로 테스트 데이터를 활용하여 정확도를 계산한다.\n",
    "evaluation = model.evaluate([dragons_test,barons_test,towers_test,totalgold_test], y_test, batch_size=batch_size) \n",
    "\n",
    "#정확도가 얼마나 나오는지 출력해본다.\n",
    "print('Accuracy: ' + str(evaluation[1]))\n"
   ]
  },
  {
   "cell_type": "code",
   "execution_count": 101,
   "id": "aebc60cb",
   "metadata": {},
   "outputs": [],
   "source": [
    "def test_accuracy(model):\n",
    "    evaluation = model.evaluate([dragons_test,barons_test,towers_test,totalgold_test], y_test, batch_size=batch_size)  \n",
    "    print('Accuracy: ' + str(evaluation[1]))\n"
   ]
  },
  {
   "cell_type": "code",
   "execution_count": 102,
   "id": "c44e4d31",
   "metadata": {},
   "outputs": [],
   "source": [
    "def save_model(model):\n",
    "    model.save('LCK2.h5')\n",
    "    "
   ]
  },
  {
   "cell_type": "code",
   "execution_count": 103,
   "id": "e969b804",
   "metadata": {},
   "outputs": [
    {
     "name": "stdout",
     "output_type": "stream",
     "text": [
      "11/11 [==============================] - 0s 600us/step - loss: 0.2459 - accuracy: 0.9224\n",
      "Accuracy: 0.922421932220459\n"
     ]
    }
   ],
   "source": [
    "test_accuracy(model)"
   ]
  },
  {
   "cell_type": "code",
   "execution_count": 104,
   "id": "ddb10c6c",
   "metadata": {},
   "outputs": [],
   "source": [
    "save_model(model)"
   ]
  },
  {
   "cell_type": "code",
   "execution_count": null,
   "id": "36cbe79d",
   "metadata": {},
   "outputs": [],
   "source": []
  }
 ],
 "metadata": {
  "kernelspec": {
   "display_name": "Python 3",
   "language": "python",
   "name": "python3"
  },
  "language_info": {
   "codemirror_mode": {
    "name": "ipython",
    "version": 3
   },
   "file_extension": ".py",
   "mimetype": "text/x-python",
   "name": "python",
   "nbconvert_exporter": "python",
   "pygments_lexer": "ipython3",
   "version": "3.8.8"
  }
 },
 "nbformat": 4,
 "nbformat_minor": 5
}
