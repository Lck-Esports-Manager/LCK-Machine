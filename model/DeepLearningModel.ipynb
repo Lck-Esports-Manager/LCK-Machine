{
 "cells": [
  {
   "cell_type": "code",
   "execution_count": 143,
   "id": "2ee89896",
   "metadata": {},
   "outputs": [],
   "source": [
    "from keras.datasets import mnist\n",
    "from keras.utils.np_utils import to_categorical \n",
    "import numpy as np \n",
    "import pandas as pd\n",
    "\n",
    "from sklearn.preprocessing import minmax_scale \n",
    "from sklearn.model_selection import train_test_split\n",
    "\n",
    "from keras.models import Sequential \n",
    "from keras.layers import Dense, Dropout, Activation, Flatten\n",
    "from tensorflow.keras.optimizers import Adam\n",
    "import itertools"
   ]
  },
  {
   "cell_type": "code",
   "execution_count": 144,
   "id": "bead6f80",
   "metadata": {},
   "outputs": [],
   "source": [
    "file_directory='../Preprocess/data_after/'\n",
    "#opposite과 my_team에 대한 변수를 두어 그 값이 1이면 내 팀, 0이면 다른 팀 인 방식으로 구현\n",
    "#테스트 데이터는 match.csv의 result attribute를 사용\n",
    "#train_data에 사용되는 데이터는 player1.csv의 선수의 티어 값을 이용\n"
   ]
  },
  {
   "cell_type": "code",
   "execution_count": 145,
   "id": "3529abb8",
   "metadata": {},
   "outputs": [
    {
     "name": "stdout",
     "output_type": "stream",
     "text": [
      "[1. 0. 0. 0. 1. 0. 0. 0. 0. 1. 1. 1. 0. 0. 0. 0. 0. 1. 1. 0. 1. 0. 0. 1.\n",
      " 0. 0. 0. 0. 0. 0. 1.]\n"
     ]
    }
   ],
   "source": [
    "\n",
    "#player1.csv의 파일을 읽어서 각 팀별 플레이어 티어 평균값을 추출\n",
    "data=pd.read_csv(\"{0}player1.csv\".format(file_directory))\n",
    "tier = data.loc[:,['Team','Tier']]\n",
    "\n",
    "team = data.sort_values('Team' ,ascending=True)\n",
    "team = team.loc[:,'Team'].drop_duplicates()\n",
    "team = team.to_list()\n",
    "\n",
    "\n",
    "#각 팀의 평균 티어를 계산함\n",
    "AvgTier = tier.groupby('Team').mean()\n",
    "\n",
    "\n",
    "\n",
    "#트레이닝 데이터를 생성하기 위한 평균값, 1과 5사이의 랜덤한 float 값을 AvgTier2에 저장\n",
    "AvgTier2 = np.random.rand(AvgTier.shape[0])*5 +1\n",
    "AvgTier2 = AvgTier2.reshape((31,1))\n",
    "\n",
    "\n",
    "AvgTier = AvgTier.to_numpy()\n",
    "\n",
    "\n",
    "Avg = np.zeros((31,2))\n",
    "\n",
    "\n",
    "AvgTier = AvgTier.reshape(31)\n",
    "AvgTier2 = AvgTier2.reshape(31)\n",
    "\n",
    "Avg[:,0] = AvgTier\n",
    "Avg[:,1] = AvgTier2\n",
    "\n",
    "\n",
    "X_train = Avg\n",
    "\n",
    "y_train = np.zeros(31)\n",
    "\n",
    "for i in range(AvgTier.shape[0]):\n",
    "    if AvgTier[i]<AvgTier2[i]:\n",
    "        y_train[i] = 0\n",
    "    else:\n",
    "        y_train[i] = 1\n",
    "\n",
    "print(y_train)\n",
    "#y_train = to_categorical(y_train)\n"
   ]
  },
  {
   "cell_type": "code",
   "execution_count": 146,
   "id": "248de5e1",
   "metadata": {},
   "outputs": [],
   "source": [
    "#match.csv 파일을 읽어서 팀의 승패 결과를 test 데이터로 활용\n",
    "data=pd.read_csv(\"{0}match.csv\".format(file_directory))\n",
    "\n",
    "X_test = data.loc[:,['side','team','result']]\n",
    "y_test = np.zeros(31)\n",
    "\n",
    "for i in range(len(team)):\n",
    "    for idx in X_test.index:\n",
    "        if team[i]==X_test.loc[idx,'team']:\n",
    "            y_test[i] = X_test.loc[idx,'result']\n",
    "            break\n",
    "            \n",
    "#원핫 인코딩 적용\n",
    "#y_test = to_categorical(y_test)\n",
    "\n",
    "y_test = y_test.reshape(-1,1)\n"
   ]
  },
  {
   "cell_type": "code",
   "execution_count": 147,
   "id": "dcfca1f4",
   "metadata": {},
   "outputs": [],
   "source": [
    "TestTier = np.random.rand(AvgTier.shape[0])*5+1\n",
    "TestTier = TestTier.reshape(AvgTier.shape[0])\n",
    "\n",
    "\n",
    "TestTier2 = np.random.rand(AvgTier.shape[0])*5+1\n",
    "TestTier2 = TestTier2.reshape(AvgTier.shape[0])\n",
    "\n",
    "X_test = np.zeros((AvgTier.shape[0],2))\n",
    "\n",
    "X_test[:,0] = TestTier\n",
    "X_test[:,1] = TestTier2\n",
    "\n",
    "\n",
    "for i in range(X_test.shape[0]):\n",
    "    if y_test[i]==0:\n",
    "        if X_test[i,0] <X_test[i,1]:\n",
    "            temp = X_test[i,0]\n",
    "            X_test[i,0] = X_test[i,1]\n",
    "            X_test[i,1] = temp\n",
    "            \n",
    "    elif y_test[i]==1:\n",
    "        if X_test[i,0]>X_test[i,1]:\n",
    "            temp = X_test[i,0]\n",
    "            X_test[i,0] = X_test[i,1]\n",
    "            X_test[i,1] = temp"
   ]
  },
  {
   "cell_type": "code",
   "execution_count": 148,
   "id": "ab05044b",
   "metadata": {},
   "outputs": [],
   "source": [
    "num_of_train_samples = X_train.shape[0] \n",
    "width = X_train.shape[1]    \n"
   ]
  },
  {
   "cell_type": "code",
   "execution_count": 149,
   "id": "c976fa34",
   "metadata": {},
   "outputs": [
    {
     "name": "stdout",
     "output_type": "stream",
     "text": [
      "31\n",
      "[[2.76660136 4.20932221]\n",
      " [5.38495632 1.9295438 ]\n",
      " [3.96197668 4.1941391 ]\n",
      " [3.47100674 2.54033728]\n",
      " [2.87323501 1.36248182]\n",
      " [2.29022733 1.54672828]\n",
      " [5.49917213 1.83375081]\n",
      " [1.2973609  3.01737949]\n",
      " [5.4500256  5.5766798 ]\n",
      " [1.74243159 3.45760265]\n",
      " [2.87353365 4.88065849]\n",
      " [2.45678052 3.02562887]\n",
      " [4.64009991 1.24518485]\n",
      " [1.36254824 2.63625056]\n",
      " [4.67153742 3.95463197]\n",
      " [2.36533649 5.34436385]\n",
      " [2.68458563 3.87698283]\n",
      " [5.19658795 1.44895637]\n",
      " [1.04473462 1.07483714]\n",
      " [4.134904   5.9002348 ]\n",
      " [2.5960193  2.15440917]\n",
      " [1.49885425 2.36971694]\n",
      " [5.01399434 4.18779723]\n",
      " [5.93698914 4.12749103]\n",
      " [4.07911537 3.04468191]\n",
      " [5.20269261 2.4303607 ]\n",
      " [4.97117904 2.82008919]\n",
      " [4.18412872 2.52131121]\n",
      " [2.94118012 4.39521499]\n",
      " [5.89600122 2.06288198]\n",
      " [5.82921724 5.24344086]]\n",
      "[[1.]\n",
      " [0.]\n",
      " [1.]\n",
      " [0.]\n",
      " [0.]\n",
      " [0.]\n",
      " [0.]\n",
      " [1.]\n",
      " [1.]\n",
      " [1.]\n",
      " [1.]\n",
      " [1.]\n",
      " [0.]\n",
      " [1.]\n",
      " [0.]\n",
      " [1.]\n",
      " [1.]\n",
      " [0.]\n",
      " [1.]\n",
      " [1.]\n",
      " [0.]\n",
      " [1.]\n",
      " [0.]\n",
      " [0.]\n",
      " [0.]\n",
      " [0.]\n",
      " [0.]\n",
      " [0.]\n",
      " [1.]\n",
      " [0.]\n",
      " [0.]]\n"
     ]
    }
   ],
   "source": [
    "num_of_test_samples = X_test.shape[0] \n",
    "print(num_of_test_samples)\n",
    "\n",
    "\n",
    "#y_test 값은 one-hot encoding을 적용하였음\n",
    "print(X_test)\n",
    "print(y_test)"
   ]
  },
  {
   "cell_type": "code",
   "execution_count": 156,
   "id": "3aeb970f",
   "metadata": {},
   "outputs": [],
   "source": [
    "y_train = np.asarray(y_train).astype('float32').reshape((-1,1))\n",
    "y_test = np.asarray(y_test).astype('float32').reshape((-1,1))"
   ]
  },
  {
   "cell_type": "code",
   "execution_count": 157,
   "id": "e6a4e7a5",
   "metadata": {},
   "outputs": [],
   "source": [
    "model = Sequential()"
   ]
  },
  {
   "cell_type": "code",
   "execution_count": 158,
   "id": "9405adad",
   "metadata": {},
   "outputs": [],
   "source": [
    "#input layer\n",
    "model.add(Dense(32, input_shape = (31,2), kernel_initializer='glorot_uniform', activation='relu'))\n",
    "model.add(Dropout(0.3)) \n",
    "for i in range(20):\n",
    "    model.add(Dense(16, kernel_initializer='glorot_uniform', activation='relu'))\n",
    "    model.add(Dropout(0.3))"
   ]
  },
  {
   "cell_type": "code",
   "execution_count": 159,
   "id": "7d0bbaed",
   "metadata": {},
   "outputs": [
    {
     "name": "stdout",
     "output_type": "stream",
     "text": [
      "[[2.57142857 1.20736556]\n",
      " [1.88235294 2.94245236]\n",
      " [1.94117647 4.7567314 ]\n",
      " [2.51282051 3.93948005]\n",
      " [3.11111111 2.51624351]\n",
      " [2.47727273 4.35981767]\n",
      " [2.12       4.71105084]\n",
      " [2.76       3.92734667]\n",
      " [3.         3.7020301 ]\n",
      " [3.875      2.32920153]\n",
      " [3.08974359 2.09813455]\n",
      " [3.16666667 1.40518289]\n",
      " [2.46067416 3.21609786]\n",
      " [1.92       2.90600843]\n",
      " [3.55555556 4.13875506]\n",
      " [2.75675676 4.70406971]\n",
      " [2.44827586 3.38742328]\n",
      " [3.06666667 2.57565732]\n",
      " [2.5625     1.23675034]\n",
      " [2.6        4.2365297 ]\n",
      " [3.35294118 3.1998567 ]\n",
      " [2.46666667 3.88604218]\n",
      " [3.         4.31040302]\n",
      " [3.73333333 1.09905654]\n",
      " [2.1369863  5.21221517]\n",
      " [2.55       2.87883166]\n",
      " [3.47058824 5.64293608]\n",
      " [1.96       3.77128787]\n",
      " [2.8        3.26922711]\n",
      " [3.125      3.24405774]\n",
      " [3.83333333 2.77960635]]\n",
      "[[1.]\n",
      " [0.]\n",
      " [0.]\n",
      " [0.]\n",
      " [1.]\n",
      " [0.]\n",
      " [0.]\n",
      " [0.]\n",
      " [0.]\n",
      " [1.]\n",
      " [1.]\n",
      " [1.]\n",
      " [0.]\n",
      " [0.]\n",
      " [0.]\n",
      " [0.]\n",
      " [0.]\n",
      " [1.]\n",
      " [1.]\n",
      " [0.]\n",
      " [1.]\n",
      " [0.]\n",
      " [0.]\n",
      " [1.]\n",
      " [0.]\n",
      " [0.]\n",
      " [0.]\n",
      " [0.]\n",
      " [0.]\n",
      " [0.]\n",
      " [1.]]\n"
     ]
    }
   ],
   "source": [
    "print(X_train)\n",
    "print(y_train)"
   ]
  },
  {
   "cell_type": "code",
   "execution_count": 160,
   "id": "46751457",
   "metadata": {},
   "outputs": [],
   "source": [
    "#마지막 hidden layer에 softmax activation function을 적용\n",
    "model.add(Dense(1, activation='sigmoid'))#soft_max \n",
    "\n",
    "model.compile(loss='binary_crossentropy', optimizer='rmsprop', metrics=['accuracy'])"
   ]
  },
  {
   "cell_type": "code",
   "execution_count": 161,
   "id": "a71e003f",
   "metadata": {},
   "outputs": [
    {
     "name": "stdout",
     "output_type": "stream",
     "text": [
      "Epoch 1/30\n",
      "WARNING:tensorflow:Model was constructed with shape (None, 31, 2) for input KerasTensor(type_spec=TensorSpec(shape=(None, 31, 2), dtype=tf.float32, name='dense_628_input'), name='dense_628_input', description=\"created by layer 'dense_628_input'\"), but it was called on an input with incompatible shape (None, 2).\n",
      "WARNING:tensorflow:Model was constructed with shape (None, 31, 2) for input KerasTensor(type_spec=TensorSpec(shape=(None, 31, 2), dtype=tf.float32, name='dense_628_input'), name='dense_628_input', description=\"created by layer 'dense_628_input'\"), but it was called on an input with incompatible shape (None, 2).\n",
      "1/1 [==============================] - ETA: 0s - loss: 0.6931 - accuracy: 0.4000WARNING:tensorflow:Model was constructed with shape (None, 31, 2) for input KerasTensor(type_spec=TensorSpec(shape=(None, 31, 2), dtype=tf.float32, name='dense_628_input'), name='dense_628_input', description=\"created by layer 'dense_628_input'\"), but it was called on an input with incompatible shape (None, 2).\n",
      "1/1 [==============================] - 2s 2s/step - loss: 0.6931 - accuracy: 0.4000 - val_loss: 0.6914 - val_accuracy: 0.7273\n",
      "Epoch 2/30\n",
      "1/1 [==============================] - 0s 14ms/step - loss: 0.6921 - accuracy: 0.6500 - val_loss: 0.6907 - val_accuracy: 0.7273\n",
      "Epoch 3/30\n",
      "1/1 [==============================] - 0s 14ms/step - loss: 0.6906 - accuracy: 0.6000 - val_loss: 0.6892 - val_accuracy: 0.7273\n",
      "Epoch 4/30\n",
      "1/1 [==============================] - 0s 14ms/step - loss: 0.6903 - accuracy: 0.6000 - val_loss: 0.6878 - val_accuracy: 0.7273\n",
      "Epoch 5/30\n",
      "1/1 [==============================] - 0s 14ms/step - loss: 0.6901 - accuracy: 0.6500 - val_loss: 0.6874 - val_accuracy: 0.7273\n",
      "Epoch 6/30\n",
      "1/1 [==============================] - 0s 15ms/step - loss: 0.6862 - accuracy: 0.7000 - val_loss: 0.6859 - val_accuracy: 0.7273\n",
      "Epoch 7/30\n",
      "1/1 [==============================] - 0s 13ms/step - loss: 0.6922 - accuracy: 0.6500 - val_loss: 0.6855 - val_accuracy: 0.7273\n",
      "Epoch 8/30\n",
      "1/1 [==============================] - 0s 14ms/step - loss: 0.6869 - accuracy: 0.6500 - val_loss: 0.6845 - val_accuracy: 0.7273\n",
      "Epoch 9/30\n",
      "1/1 [==============================] - 0s 14ms/step - loss: 0.6866 - accuracy: 0.7000 - val_loss: 0.6835 - val_accuracy: 0.7273\n",
      "Epoch 10/30\n",
      "1/1 [==============================] - 0s 14ms/step - loss: 0.6854 - accuracy: 0.6500 - val_loss: 0.6828 - val_accuracy: 0.7273\n",
      "Epoch 11/30\n",
      "1/1 [==============================] - 0s 14ms/step - loss: 0.6868 - accuracy: 0.6500 - val_loss: 0.6823 - val_accuracy: 0.7273\n",
      "Epoch 12/30\n",
      "1/1 [==============================] - 0s 15ms/step - loss: 0.6882 - accuracy: 0.6500 - val_loss: 0.6820 - val_accuracy: 0.7273\n",
      "Epoch 13/30\n",
      "1/1 [==============================] - 0s 14ms/step - loss: 0.6845 - accuracy: 0.6500 - val_loss: 0.6808 - val_accuracy: 0.7273\n",
      "Epoch 14/30\n",
      "1/1 [==============================] - 0s 14ms/step - loss: 0.6855 - accuracy: 0.6500 - val_loss: 0.6801 - val_accuracy: 0.7273\n",
      "Epoch 15/30\n",
      "1/1 [==============================] - 0s 14ms/step - loss: 0.6856 - accuracy: 0.7000 - val_loss: 0.6798 - val_accuracy: 0.7273\n",
      "Epoch 16/30\n",
      "1/1 [==============================] - 0s 15ms/step - loss: 0.6845 - accuracy: 0.6500 - val_loss: 0.6791 - val_accuracy: 0.7273\n",
      "Epoch 17/30\n",
      "1/1 [==============================] - 0s 14ms/step - loss: 0.6860 - accuracy: 0.6500 - val_loss: 0.6787 - val_accuracy: 0.7273\n",
      "Epoch 18/30\n",
      "1/1 [==============================] - 0s 15ms/step - loss: 0.6790 - accuracy: 0.6500 - val_loss: 0.6774 - val_accuracy: 0.7273\n",
      "Epoch 19/30\n",
      "1/1 [==============================] - 0s 13ms/step - loss: 0.6843 - accuracy: 0.6500 - val_loss: 0.6768 - val_accuracy: 0.7273\n",
      "Epoch 20/30\n",
      "1/1 [==============================] - 0s 14ms/step - loss: 0.6842 - accuracy: 0.7000 - val_loss: 0.6765 - val_accuracy: 0.7273\n",
      "Epoch 21/30\n",
      "1/1 [==============================] - 0s 14ms/step - loss: 0.6865 - accuracy: 0.6500 - val_loss: 0.6761 - val_accuracy: 0.7273\n",
      "Epoch 22/30\n",
      "1/1 [==============================] - 0s 15ms/step - loss: 0.6840 - accuracy: 0.6500 - val_loss: 0.6755 - val_accuracy: 0.7273\n",
      "Epoch 23/30\n",
      "1/1 [==============================] - 0s 15ms/step - loss: 0.6838 - accuracy: 0.6500 - val_loss: 0.6753 - val_accuracy: 0.7273\n",
      "Epoch 24/30\n",
      "1/1 [==============================] - 0s 14ms/step - loss: 0.6798 - accuracy: 0.6500 - val_loss: 0.6741 - val_accuracy: 0.7273\n",
      "Epoch 25/30\n",
      "1/1 [==============================] - 0s 14ms/step - loss: 0.6799 - accuracy: 0.6500 - val_loss: 0.6732 - val_accuracy: 0.7273\n",
      "Epoch 26/30\n",
      "1/1 [==============================] - 0s 13ms/step - loss: 0.6799 - accuracy: 0.6500 - val_loss: 0.6724 - val_accuracy: 0.7273\n",
      "Epoch 27/30\n",
      "1/1 [==============================] - 0s 15ms/step - loss: 0.6850 - accuracy: 0.6500 - val_loss: 0.6721 - val_accuracy: 0.7273\n",
      "Epoch 28/30\n",
      "1/1 [==============================] - 0s 14ms/step - loss: 0.6895 - accuracy: 0.6000 - val_loss: 0.6721 - val_accuracy: 0.7273\n",
      "Epoch 29/30\n",
      "1/1 [==============================] - 0s 15ms/step - loss: 0.6763 - accuracy: 0.6500 - val_loss: 0.6713 - val_accuracy: 0.7273\n",
      "Epoch 30/30\n",
      "1/1 [==============================] - 0s 14ms/step - loss: 0.6771 - accuracy: 0.6500 - val_loss: 0.6706 - val_accuracy: 0.7273\n"
     ]
    },
    {
     "data": {
      "text/plain": [
       "<keras.callbacks.History at 0x108c5bd0ac0>"
      ]
     },
     "execution_count": 161,
     "metadata": {},
     "output_type": "execute_result"
    }
   ],
   "source": [
    "training_epochs = 30 \n",
    "batch_size = 100 \n",
    "model.fit(X_train, y_train, epochs=training_epochs, batch_size=batch_size,validation_split=0.33)\n"
   ]
  },
  {
   "cell_type": "code",
   "execution_count": 162,
   "id": "e4d927c8",
   "metadata": {},
   "outputs": [
    {
     "name": "stdout",
     "output_type": "stream",
     "text": [
      "2/2 [==============================] - 0s 2ms/step - loss: 0.6894 - accuracy: 0.5484\n",
      "Accuracy: 0.5483871102333069\n"
     ]
    }
   ],
   "source": [
    "evaluation = model.evaluate(X_test, y_test, batch_size=20) \n",
    "print('Accuracy: ' + str(evaluation[1]))\n"
   ]
  },
  {
   "cell_type": "code",
   "execution_count": null,
   "id": "60a2b3fb",
   "metadata": {},
   "outputs": [],
   "source": []
  },
  {
   "cell_type": "code",
   "execution_count": null,
   "id": "aebc60cb",
   "metadata": {},
   "outputs": [],
   "source": []
  },
  {
   "cell_type": "code",
   "execution_count": null,
   "id": "c44e4d31",
   "metadata": {},
   "outputs": [],
   "source": []
  }
 ],
 "metadata": {
  "kernelspec": {
   "display_name": "Python 3",
   "language": "python",
   "name": "python3"
  },
  "language_info": {
   "codemirror_mode": {
    "name": "ipython",
    "version": 3
   },
   "file_extension": ".py",
   "mimetype": "text/x-python",
   "name": "python",
   "nbconvert_exporter": "python",
   "pygments_lexer": "ipython3",
   "version": "3.8.8"
  }
 },
 "nbformat": 4,
 "nbformat_minor": 5
}
