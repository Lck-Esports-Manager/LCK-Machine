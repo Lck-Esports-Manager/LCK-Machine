{
 "cells": [
  {
   "cell_type": "code",
   "execution_count": 16,
   "id": "3448ec6c",
   "metadata": {},
   "outputs": [],
   "source": [
    "from keras.datasets import mnist\n",
    "from keras.utils.np_utils import to_categorical \n",
    "import numpy as np \n",
    "import pandas as pd\n",
    "\n",
    "from sklearn.preprocessing import minmax_scale \n",
    "from sklearn.model_selection import train_test_split\n",
    "\n",
    "from tensorflow.keras.models import Model\n",
    "\n",
    "from keras.models import Sequential \n",
    "from keras.layers import Input,Dense, Dropout, Activation, Flatten, concatenate\n",
    "from tensorflow.keras.optimizers import Adam"
   ]
  },
  {
   "cell_type": "code",
   "execution_count": 17,
   "id": "a596ddb9",
   "metadata": {},
   "outputs": [],
   "source": [
    "from keras.models import load_model\n",
    "model = load_model('LCK.h5')"
   ]
  },
  {
   "cell_type": "code",
   "execution_count": 47,
   "id": "bbfde8c7",
   "metadata": {},
   "outputs": [],
   "source": [
    "\n",
    "\n",
    "def showMatchResult(dragons,barons,towers,model):\n",
    "    x = np.array([dragons])\n",
    "    y = np.array([barons])\n",
    "    z = np.array([towers])\n",
    "    x = np.asarray(x).astype('int32').reshape((-1,1))\n",
    "    y = np.asarray(y).astype('int32').reshape((-1,1))\n",
    "    z = np.asarray(z).astype('int32').reshape((-1,1))\n",
    "    \n",
    "    preds = model.predict([x,y,z])\n",
    "    return preds\n",
    "\n",
    "def showMatchResult2(x,model):\n",
    "    preds = model.predict([x])\n",
    "    return preds\n",
    "\n",
    "\n",
    "preds = showMatchResult([1,-3,-6],[1,4,7],[3,-3,3],model)\n"
   ]
  },
  {
   "cell_type": "code",
   "execution_count": 48,
   "id": "ba5a20a6",
   "metadata": {},
   "outputs": [],
   "source": [
    "'''x는 [blue팀 드래곤 처치수, blue팀 바론 처치수, blue팀 타워 철거수, red팀 드래곤 처치수, red팀 바론 처치수, red팀 타워 철거수]의 형태로\n",
    "구성된 배열'''\n",
    "\n",
    "\n",
    "\n",
    "def predict_value(x):\n",
    "    x = np.array(x)\n",
    "    y = model.predict(x)\n",
    "    return y\n",
    " \n",
    "    "
   ]
  },
  {
   "cell_type": "code",
   "execution_count": 49,
   "id": "c29b8cb0",
   "metadata": {},
   "outputs": [
    {
     "name": "stdout",
     "output_type": "stream",
     "text": [
      "[[[0.5520036 ]]\n",
      "\n",
      " [[0.17738086]]\n",
      "\n",
      " [[0.43556154]]]\n"
     ]
    }
   ],
   "source": [
    "print(preds)"
   ]
  },
  {
   "cell_type": "code",
   "execution_count": null,
   "id": "20eaf1bf",
   "metadata": {},
   "outputs": [],
   "source": []
  }
 ],
 "metadata": {
  "kernelspec": {
   "display_name": "Python 3",
   "language": "python",
   "name": "python3"
  },
  "language_info": {
   "codemirror_mode": {
    "name": "ipython",
    "version": 3
   },
   "file_extension": ".py",
   "mimetype": "text/x-python",
   "name": "python",
   "nbconvert_exporter": "python",
   "pygments_lexer": "ipython3",
   "version": "3.8.8"
  }
 },
 "nbformat": 4,
 "nbformat_minor": 5
}
