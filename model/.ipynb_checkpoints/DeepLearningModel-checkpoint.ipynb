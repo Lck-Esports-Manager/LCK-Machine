{
 "cells": [
  {
   "cell_type": "code",
   "execution_count": 24,
   "id": "2ee89896",
   "metadata": {},
   "outputs": [],
   "source": [
    "from keras.datasets import mnist\n",
    "from keras.utils.np_utils import to_categorical \n",
    "import numpy as np \n",
    "import pandas as pd\n",
    "\n",
    "from sklearn.preprocessing import minmax_scale \n",
    "from sklearn.model_selection import train_test_split\n",
    "\n",
    "from keras.models import Sequential \n",
    "from keras.layers import Dense, Dropout, Activation, Flatten\n",
    "from tensorflow.keras.optimizers import Adam\n",
    "import itertools"
   ]
  },
  {
   "cell_type": "code",
   "execution_count": 25,
   "id": "bead6f80",
   "metadata": {},
   "outputs": [],
   "source": [
    "file_directory='../Preprocess/data_after/'\n",
    "#opposite과 my_team에 대한 변수를 두어 그 값이 1이면 내 팀, 0이면 다른 팀 인 방식으로 구현\n",
    "#테스트 데이터는 match.csv의 result attribute를 사용\n",
    "#train_data에 사용되는 데이터는 player1.csv의 선수의 티어 값을 이용\n"
   ]
  },
  {
   "cell_type": "code",
   "execution_count": 26,
   "id": "248de5e1",
   "metadata": {},
   "outputs": [
    {
     "name": "stdout",
     "output_type": "stream",
     "text": [
      "      dragons  barons  towers\n",
      "0         0.0     1.0    10.0\n",
      "1         0.0     0.0     4.0\n",
      "2         0.0     1.0    10.0\n",
      "3         0.0     0.0     2.0\n",
      "4         0.0     0.0     1.0\n",
      "...       ...     ...     ...\n",
      "5277      1.0     1.0     4.0\n",
      "5278      0.0     0.0     0.0\n",
      "5279      4.0     1.0    10.0\n",
      "5280      3.0     1.0     8.0\n",
      "5281      0.0     0.0     2.0\n",
      "\n",
      "[5282 rows x 3 columns]\n",
      "0       1\n",
      "1       0\n",
      "2       1\n",
      "3       0\n",
      "4       0\n",
      "       ..\n",
      "5277    0\n",
      "5278    0\n",
      "5279    1\n",
      "5280    1\n",
      "5281    0\n",
      "Name: result, Length: 5282, dtype: int64\n",
      "(4225, 3)\n",
      "(1057, 3)\n"
     ]
    },
    {
     "data": {
      "text/plain": [
       "\"for i in range(len(team)):\\n    for idx in X_test.index:\\n        if team[i]==X_test.loc[idx,'team']:\\n            y_test[i] = X_test.loc[idx,'result']\\n            break\\n            \\n#원핫 인코딩 적용\\n#y_test = to_categorical(y_test)\\n\\ny_test = y_test.reshape(-1,1)\""
      ]
     },
     "execution_count": 26,
     "metadata": {},
     "output_type": "execute_result"
    }
   ],
   "source": [
    "#match.csv 파일을 읽어서 팀의 승패 결과를 test 데이터로 활용\n",
    "data=pd.read_csv(\"{0}match2.csv\".format(file_directory))\n",
    "\n",
    "\n",
    "data= data.loc[:,['gameid','side','result','dragons','barons','towers']]\n",
    "\n",
    "\n",
    "#0는 레드\n",
    "#1은 블루\n",
    "cond1 = data['side']==0\n",
    "cond2 = data['side']==1\n",
    "\n",
    "\n",
    "X_test_blue = data[cond1]\n",
    "X_test_red = data[cond2]\n",
    "\n",
    "\n",
    "\n",
    "\n",
    "X_train = data[['dragons','barons','towers']]\n",
    "#X_train_blue = data[['dragons','barons','towers']]\n",
    "#X_train_red = data[['dragons','barons','towers']]\n",
    "y_train = data['result']\n",
    "\n",
    "\n",
    "print(X_train)\n",
    "print(y_train)\n",
    "\n",
    "\n",
    "X_train = X_train.to_numpy()\n",
    "y_train = y_train.to_numpy()\n",
    "\n",
    "x_train, x_test, y_train, y_test = train_test_split(X_train, y_train, random_state=66, test_size=0.2)\n",
    "\n",
    "\n",
    "\n",
    "print(x_train.shape)\n",
    "print(x_test.shape)\n",
    "#print(X_test_blue)\n",
    "#print(X_test_red)\n",
    "\n",
    "#X_test_blue = X_test_blue.to_numpy()\n",
    "#X_test_red = X_test_red.to_numpy()\n",
    "#match.csv 파일에서 승패 결과 데이터인 result를 추출해내는 과정\n",
    "#매치 데이터는 각 팀당 하나씩만 해서 표본 데이터를 가져온다.\n",
    "'''for i in range(len(team)):\n",
    "    for idx in X_test.index:\n",
    "        if team[i]==X_test.loc[idx,'team']:\n",
    "            y_test[i] = X_test.loc[idx,'result']\n",
    "            break\n",
    "            \n",
    "#원핫 인코딩 적용\n",
    "#y_test = to_categorical(y_test)\n",
    "\n",
    "y_test = y_test.reshape(-1,1)'''\n"
   ]
  },
  {
   "cell_type": "code",
   "execution_count": null,
   "id": "dcfca1f4",
   "metadata": {},
   "outputs": [],
   "source": []
  },
  {
   "cell_type": "code",
   "execution_count": null,
   "id": "ab05044b",
   "metadata": {},
   "outputs": [],
   "source": [
    "\n"
   ]
  },
  {
   "cell_type": "code",
   "execution_count": 27,
   "id": "c976fa34",
   "metadata": {},
   "outputs": [
    {
     "name": "stdout",
     "output_type": "stream",
     "text": [
      "1057\n"
     ]
    }
   ],
   "source": [
    "num_of_test_samples = x_test.shape[0] \n",
    "num_of_train_samples = x_train.shape[0]\n",
    "print(num_of_test_samples)\n",
    "\n",
    "\n",
    "#y_test 값은 one-hot encoding을 적용하였음\n"
   ]
  },
  {
   "cell_type": "code",
   "execution_count": 28,
   "id": "3aeb970f",
   "metadata": {},
   "outputs": [],
   "source": [
    "y_train = np.asarray(y_train).astype('float32').reshape((-1,1))\n",
    "y_test = np.asarray(y_test).astype('float32').reshape((-1,1))"
   ]
  },
  {
   "cell_type": "code",
   "execution_count": 29,
   "id": "f538536d",
   "metadata": {},
   "outputs": [],
   "source": [
    "model = Sequential()"
   ]
  },
  {
   "cell_type": "code",
   "execution_count": 30,
   "id": "9405adad",
   "metadata": {},
   "outputs": [],
   "source": [
    "#input layer\n",
    "model.add(Dense(32, input_shape = (num_of_train_samples,3), kernel_initializer='glorot_uniform', activation='relu'))\n",
    "model.add(Dropout(0.3)) \n",
    "for i in range(20):\n",
    "    model.add(Dense(16, kernel_initializer='glorot_uniform', activation='relu'))\n",
    "    model.add(Dropout(0.3))"
   ]
  },
  {
   "cell_type": "code",
   "execution_count": 31,
   "id": "7d0bbaed",
   "metadata": {},
   "outputs": [
    {
     "name": "stdout",
     "output_type": "stream",
     "text": [
      "[[ 0.  1. 10.]\n",
      " [ 0.  0.  4.]\n",
      " [ 0.  1. 10.]\n",
      " ...\n",
      " [ 4.  1. 10.]\n",
      " [ 3.  1.  8.]\n",
      " [ 0.  0.  2.]]\n",
      "[[0.]\n",
      " [1.]\n",
      " [0.]\n",
      " ...\n",
      " [0.]\n",
      " [0.]\n",
      " [0.]]\n"
     ]
    }
   ],
   "source": [
    "print(X_train)\n",
    "print(y_train)"
   ]
  },
  {
   "cell_type": "code",
   "execution_count": 32,
   "id": "46751457",
   "metadata": {},
   "outputs": [],
   "source": [
    "#마지막 hidden layer에 softmax activation function을 적용\n",
    "model.add(Dense(1, activation='sigmoid'))#soft_max \n",
    "\n",
    "model.compile(loss='binary_crossentropy', optimizer='rmsprop', metrics=['accuracy'])"
   ]
  },
  {
   "cell_type": "code",
   "execution_count": 34,
   "id": "a71e003f",
   "metadata": {},
   "outputs": [
    {
     "name": "stdout",
     "output_type": "stream",
     "text": [
      "Epoch 1/30\n",
      "25/29 [========================>.....] - ETA: 0s - loss: 0.6794 - accuracy: 0.6108WARNING:tensorflow:Model was constructed with shape (None, 4225, 3) for input KerasTensor(type_spec=TensorSpec(shape=(None, 4225, 3), dtype=tf.float32, name='dense_22_input'), name='dense_22_input', description=\"created by layer 'dense_22_input'\"), but it was called on an input with incompatible shape (None, 3).\n",
      "29/29 [==============================] - 0s 9ms/step - loss: 0.6778 - accuracy: 0.6148 - val_loss: 0.6865 - val_accuracy: 0.4946\n",
      "Epoch 2/30\n",
      "29/29 [==============================] - 0s 3ms/step - loss: 0.6532 - accuracy: 0.6922 - val_loss: 0.6747 - val_accuracy: 0.4946\n",
      "Epoch 3/30\n",
      "29/29 [==============================] - 0s 3ms/step - loss: 0.6180 - accuracy: 0.7216 - val_loss: 0.6754 - val_accuracy: 0.4946\n",
      "Epoch 4/30\n",
      "29/29 [==============================] - 0s 3ms/step - loss: 0.5901 - accuracy: 0.7530 - val_loss: 0.5767 - val_accuracy: 0.9262\n",
      "Epoch 5/30\n",
      "29/29 [==============================] - 0s 3ms/step - loss: 0.5610 - accuracy: 0.7820 - val_loss: 0.6686 - val_accuracy: 0.4946\n",
      "Epoch 6/30\n",
      "29/29 [==============================] - 0s 3ms/step - loss: 0.5694 - accuracy: 0.7806 - val_loss: 0.6084 - val_accuracy: 0.5935\n",
      "Epoch 7/30\n",
      "29/29 [==============================] - 0s 3ms/step - loss: 0.5276 - accuracy: 0.7961 - val_loss: 0.6178 - val_accuracy: 0.5484\n",
      "Epoch 8/30\n",
      "29/29 [==============================] - 0s 3ms/step - loss: 0.4961 - accuracy: 0.8102 - val_loss: 0.5768 - val_accuracy: 0.6717\n",
      "Epoch 9/30\n",
      "29/29 [==============================] - 0s 3ms/step - loss: 0.4939 - accuracy: 0.8261 - val_loss: 0.5191 - val_accuracy: 0.7742\n",
      "Epoch 10/30\n",
      "29/29 [==============================] - 0s 3ms/step - loss: 0.4575 - accuracy: 0.8470 - val_loss: 0.4911 - val_accuracy: 0.8344\n",
      "Epoch 11/30\n",
      "29/29 [==============================] - 0s 3ms/step - loss: 0.4251 - accuracy: 0.8491 - val_loss: 0.4767 - val_accuracy: 0.8502\n",
      "Epoch 12/30\n",
      "29/29 [==============================] - 0s 3ms/step - loss: 0.4375 - accuracy: 0.8636 - val_loss: 0.6024 - val_accuracy: 0.6559\n",
      "Epoch 13/30\n",
      "29/29 [==============================] - 0s 3ms/step - loss: 0.3998 - accuracy: 0.8664 - val_loss: 0.6220 - val_accuracy: 0.6323\n",
      "Epoch 14/30\n",
      "29/29 [==============================] - 0s 3ms/step - loss: 0.4006 - accuracy: 0.8703 - val_loss: 0.4580 - val_accuracy: 0.8631\n",
      "Epoch 15/30\n",
      "29/29 [==============================] - 0s 3ms/step - loss: 0.3845 - accuracy: 0.8799 - val_loss: 0.4591 - val_accuracy: 0.8595\n",
      "Epoch 16/30\n",
      "29/29 [==============================] - 0s 3ms/step - loss: 0.3644 - accuracy: 0.8845 - val_loss: 0.4445 - val_accuracy: 0.8638\n",
      "Epoch 17/30\n",
      "29/29 [==============================] - 0s 3ms/step - loss: 0.3622 - accuracy: 0.8940 - val_loss: 0.4360 - val_accuracy: 0.8631\n",
      "Epoch 18/30\n",
      "29/29 [==============================] - 0s 3ms/step - loss: 0.3801 - accuracy: 0.8862 - val_loss: 0.5619 - val_accuracy: 0.7606\n",
      "Epoch 19/30\n",
      "29/29 [==============================] - 0s 3ms/step - loss: 0.3299 - accuracy: 0.9014 - val_loss: 0.4598 - val_accuracy: 0.8624\n",
      "Epoch 20/30\n",
      "29/29 [==============================] - 0s 3ms/step - loss: 0.3259 - accuracy: 0.9025 - val_loss: 0.4893 - val_accuracy: 0.8430\n",
      "Epoch 21/30\n",
      "29/29 [==============================] - 0s 3ms/step - loss: 0.3268 - accuracy: 0.9032 - val_loss: 0.4485 - val_accuracy: 0.8645\n",
      "Epoch 22/30\n",
      "29/29 [==============================] - 0s 3ms/step - loss: 0.3344 - accuracy: 0.9092 - val_loss: 0.4765 - val_accuracy: 0.8294\n",
      "Epoch 23/30\n",
      "29/29 [==============================] - 0s 3ms/step - loss: 0.3129 - accuracy: 0.9095 - val_loss: 0.3690 - val_accuracy: 0.9190\n",
      "Epoch 24/30\n",
      "29/29 [==============================] - 0s 3ms/step - loss: 0.2969 - accuracy: 0.9106 - val_loss: 0.4416 - val_accuracy: 0.8731\n",
      "Epoch 25/30\n",
      "29/29 [==============================] - 0s 3ms/step - loss: 0.3085 - accuracy: 0.9177 - val_loss: 0.4637 - val_accuracy: 0.8330\n",
      "Epoch 26/30\n",
      "29/29 [==============================] - 0s 3ms/step - loss: 0.2771 - accuracy: 0.9191 - val_loss: 0.4809 - val_accuracy: 0.8581\n",
      "Epoch 27/30\n",
      "29/29 [==============================] - 0s 3ms/step - loss: 0.2620 - accuracy: 0.9198 - val_loss: 0.3795 - val_accuracy: 0.8968\n",
      "Epoch 28/30\n",
      "29/29 [==============================] - 0s 3ms/step - loss: 0.2603 - accuracy: 0.9276 - val_loss: 0.5748 - val_accuracy: 0.8079\n",
      "Epoch 29/30\n",
      "29/29 [==============================] - 0s 3ms/step - loss: 0.3109 - accuracy: 0.9180 - val_loss: 0.3941 - val_accuracy: 0.8939\n",
      "Epoch 30/30\n",
      "29/29 [==============================] - 0s 3ms/step - loss: 0.2580 - accuracy: 0.9272 - val_loss: 0.4183 - val_accuracy: 0.8903\n"
     ]
    },
    {
     "data": {
      "text/plain": [
       "<keras.callbacks.History at 0x22046b5c6a0>"
      ]
     },
     "execution_count": 34,
     "metadata": {},
     "output_type": "execute_result"
    }
   ],
   "source": [
    "training_epochs = 30 \n",
    "batch_size = 100 \n",
    "model.fit(x_train, y_train, epochs=training_epochs, batch_size=batch_size,validation_split=0.33)\n"
   ]
  },
  {
   "cell_type": "code",
   "execution_count": 36,
   "id": "e4d927c8",
   "metadata": {},
   "outputs": [
    {
     "name": "stdout",
     "output_type": "stream",
     "text": [
      "53/53 [==============================] - 0s 500us/step - loss: 0.4064 - accuracy: 0.8893\n",
      "Accuracy: 0.8893093466758728\n"
     ]
    }
   ],
   "source": [
    "evaluation = model.evaluate(x_test, y_test, batch_size=20) \n",
    "print('Accuracy: ' + str(evaluation[1]))\n"
   ]
  },
  {
   "cell_type": "code",
   "execution_count": null,
   "id": "60a2b3fb",
   "metadata": {},
   "outputs": [],
   "source": []
  },
  {
   "cell_type": "code",
   "execution_count": null,
   "id": "aebc60cb",
   "metadata": {},
   "outputs": [],
   "source": []
  },
  {
   "cell_type": "code",
   "execution_count": null,
   "id": "c44e4d31",
   "metadata": {},
   "outputs": [],
   "source": []
  }
 ],
 "metadata": {
  "kernelspec": {
   "display_name": "Python 3",
   "language": "python",
   "name": "python3"
  },
  "language_info": {
   "codemirror_mode": {
    "name": "ipython",
    "version": 3
   },
   "file_extension": ".py",
   "mimetype": "text/x-python",
   "name": "python",
   "nbconvert_exporter": "python",
   "pygments_lexer": "ipython3",
   "version": "3.8.8"
  }
 },
 "nbformat": 4,
 "nbformat_minor": 5
}
