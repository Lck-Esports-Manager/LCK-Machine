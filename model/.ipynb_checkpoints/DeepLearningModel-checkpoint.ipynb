{
 "cells": [
  {
   "cell_type": "code",
   "execution_count": 12,
   "id": "2ee89896",
   "metadata": {},
   "outputs": [],
   "source": [
    "from keras.datasets import mnist\n",
    "from keras.utils.np_utils import to_categorical \n",
    "import numpy as np \n",
    "import pandas as pd\n",
    "\n",
    "from sklearn.preprocessing import minmax_scale \n",
    "from sklearn.model_selection import train_test_split\n",
    "\n",
    "from tensorflow.keras.models import Model\n",
    "\n",
    "from keras.models import Sequential \n",
    "from keras.layers import Input,Dense, Dropout, Activation, Flatten, concatenate\n",
    "from tensorflow.keras.optimizers import Adam\n",
    "import itertools"
   ]
  },
  {
   "cell_type": "code",
   "execution_count": 13,
   "id": "bead6f80",
   "metadata": {},
   "outputs": [],
   "source": [
    "file_directory='../Preprocess/data_after/'\n",
    "#opposite과 my_team에 대한 변수를 두어 그 값이 1이면 내 팀, 0이면 다른 팀 인 방식으로 구현\n",
    "#테스트 데이터는 match.csv의 result attribute를 사용\n",
    "#train_data에 사용되는 데이터는 player1.csv의 선수의 티어 값을 이용\n"
   ]
  },
  {
   "cell_type": "code",
   "execution_count": 33,
   "id": "248de5e1",
   "metadata": {},
   "outputs": [
    {
     "name": "stdout",
     "output_type": "stream",
     "text": [
      "      dragons  barons  towers\n",
      "0         0.0     1.0    10.0\n",
      "1         0.0     0.0     4.0\n",
      "2         0.0     1.0    10.0\n",
      "3         0.0     0.0     2.0\n",
      "4         0.0     0.0     1.0\n",
      "...       ...     ...     ...\n",
      "5277      1.0     1.0     4.0\n",
      "5278      0.0     0.0     0.0\n",
      "5279      4.0     1.0    10.0\n",
      "5280      3.0     1.0     8.0\n",
      "5281      0.0     0.0     2.0\n",
      "\n",
      "[5282 rows x 3 columns]\n",
      "0       1\n",
      "1       0\n",
      "2       1\n",
      "3       0\n",
      "4       0\n",
      "       ..\n",
      "5277    0\n",
      "5278    0\n",
      "5279    1\n",
      "5280    1\n",
      "5281    0\n",
      "Name: result, Length: 5282, dtype: int64\n",
      "(4225, 3)\n",
      "(1057, 3)\n",
      "[[1.]\n",
      " [3.]\n",
      " [2.]\n",
      " ...\n",
      " [0.]\n",
      " [0.]\n",
      " [0.]]\n"
     ]
    },
    {
     "data": {
      "text/plain": [
       "\"for i in range(len(team)):\\n    for idx in X_test.index:\\n        if team[i]==X_test.loc[idx,'team']:\\n            y_test[i] = X_test.loc[idx,'result']\\n            break\\n            \\n#원핫 인코딩 적용\\n#y_test = to_categorical(y_test)\\n\\ny_test = y_test.reshape(-1,1)\""
      ]
     },
     "execution_count": 33,
     "metadata": {},
     "output_type": "execute_result"
    }
   ],
   "source": [
    "#match.csv 파일을 읽어서 팀의 승패 결과를 test 데이터로 활용\n",
    "data=pd.read_csv(\"{0}match2.csv\".format(file_directory))\n",
    "\n",
    "\n",
    "data= data.loc[:,['gameid','side','result','dragons','barons','towers']]\n",
    "\n",
    "\n",
    "#0는 레드\n",
    "#1은 블루\n",
    "cond1 = data['side']==0\n",
    "cond2 = data['side']==1\n",
    "\n",
    "\n",
    "X_test_blue = data[cond1]\n",
    "X_test_red = data[cond2]\n",
    "\n",
    "\n",
    "\n",
    "\n",
    "X_train = data[['dragons','barons','towers']]\n",
    "#X_train_blue = data[['dragons','barons','towers']]\n",
    "#X_train_red = data[['dragons','barons','towers']]\n",
    "y_train = data['result']\n",
    "\n",
    "\n",
    "print(X_train)\n",
    "print(y_train)\n",
    "\n",
    "\n",
    "X_train = X_train.to_numpy()\n",
    "y_train = y_train.to_numpy()\n",
    "\n",
    "x_train, x_test, y_train, y_test = train_test_split(X_train, y_train, random_state=66, test_size=0.2)\n",
    "\n",
    "\n",
    "print(x_train.shape)\n",
    "print(x_test.shape)\n",
    "\n",
    "\n",
    "dragons_train = x_train[:,0]\n",
    "barons_train = x_train[:,1]\n",
    "towers_train = x_train[:,2]\n",
    "\n",
    "\n",
    "dragons_train = np.asarray(dragons_train).astype('float32').reshape((-1,1))\n",
    "barons_train = np.asarray(barons_train).astype('float32').reshape((-1,1))\n",
    "towers_train = np.asarray(towers_train).astype('float32').reshape((-1,1))\n",
    "\n",
    "\n",
    "dragons_test = x_test[:,0]\n",
    "barons_test = x_test[:,1]\n",
    "towers_test = x_test[:,2]\n",
    "\n",
    "\n",
    "dragons_test = np.asarray(dragons_test).astype('float32').reshape((-1,1))\n",
    "barons_test = np.asarray(barons_test).astype('float32').reshape((-1,1))\n",
    "towers_test = np.asarray(towers_test).astype('float32').reshape((-1,1))\n",
    "\n",
    "\n",
    "#print(X_test_blue)\n",
    "#print(X_test_red)\n",
    "\n",
    "\n",
    "\n",
    "print(dragons_train)\n",
    "\n",
    "#X_test_blue = X_test_blue.to_numpy()\n",
    "#X_test_red = X_test_red.to_numpy()\n",
    "#match.csv 파일에서 승패 결과 데이터인 result를 추출해내는 과정\n",
    "#매치 데이터는 각 팀당 하나씩만 해서 표본 데이터를 가져온다.\n",
    "\n",
    "\n",
    "'''for i in range(len(team)):\n",
    "    for idx in X_test.index:\n",
    "        if team[i]==X_test.loc[idx,'team']:\n",
    "            y_test[i] = X_test.loc[idx,'result']\n",
    "            break\n",
    "            \n",
    "#원핫 인코딩 적용\n",
    "#y_test = to_categorical(y_test)\n",
    "\n",
    "y_test = y_test.reshape(-1,1)'''\n"
   ]
  },
  {
   "cell_type": "code",
   "execution_count": null,
   "id": "dcfca1f4",
   "metadata": {},
   "outputs": [],
   "source": []
  },
  {
   "cell_type": "code",
   "execution_count": null,
   "id": "ab05044b",
   "metadata": {},
   "outputs": [],
   "source": [
    "\n"
   ]
  },
  {
   "cell_type": "code",
   "execution_count": 34,
   "id": "c976fa34",
   "metadata": {},
   "outputs": [
    {
     "name": "stdout",
     "output_type": "stream",
     "text": [
      "1057\n"
     ]
    }
   ],
   "source": [
    "num_of_test_samples = x_test.shape[0] \n",
    "num_of_train_samples = x_train.shape[0]\n",
    "print(num_of_test_samples)\n",
    "\n",
    "\n",
    "#y_test 값은 one-hot encoding을 적용하였음\n"
   ]
  },
  {
   "cell_type": "code",
   "execution_count": 35,
   "id": "3aeb970f",
   "metadata": {},
   "outputs": [
    {
     "name": "stdout",
     "output_type": "stream",
     "text": [
      "[[0.]\n",
      " [1.]\n",
      " [0.]\n",
      " ...\n",
      " [0.]\n",
      " [0.]\n",
      " [0.]]\n"
     ]
    }
   ],
   "source": [
    "y_train = np.asarray(y_train).astype('float32').reshape((-1,1))\n",
    "y_test = np.asarray(y_test).astype('float32').reshape((-1,1))\n",
    "\n",
    "print(y_train)\n",
    "\n",
    "\n",
    "inputA = Input(shape=(None,1))\n",
    "inputB = Input(shape=(None,1))\n",
    "inputC = Input(shape=(None,1))"
   ]
  },
  {
   "cell_type": "code",
   "execution_count": 39,
   "id": "f538536d",
   "metadata": {},
   "outputs": [
    {
     "name": "stdout",
     "output_type": "stream",
     "text": [
      "Epoch 1/30\n",
      "43/43 [==============================] - 1s 691us/step - loss: 0.5791 - accuracy: 0.5969\n",
      "Epoch 2/30\n",
      "43/43 [==============================] - 0s 714us/step - loss: 0.5527 - accuracy: 0.5938\n",
      "Epoch 3/30\n",
      "43/43 [==============================] - 0s 714us/step - loss: 0.5416 - accuracy: 0.6007\n",
      "Epoch 4/30\n",
      "43/43 [==============================] - 0s 691us/step - loss: 0.5330 - accuracy: 0.6237\n",
      "Epoch 5/30\n",
      "43/43 [==============================] - 0s 762us/step - loss: 0.5255 - accuracy: 0.6400\n",
      "Epoch 6/30\n",
      "43/43 [==============================] - 0s 738us/step - loss: 0.5182 - accuracy: 0.6791\n",
      "Epoch 7/30\n",
      "43/43 [==============================] - 0s 691us/step - loss: 0.5108 - accuracy: 0.6987\n",
      "Epoch 8/30\n",
      "43/43 [==============================] - 0s 691us/step - loss: 0.5037 - accuracy: 0.7011\n",
      "Epoch 9/30\n",
      "43/43 [==============================] - 0s 714us/step - loss: 0.4961 - accuracy: 0.7198\n",
      "Epoch 10/30\n",
      "43/43 [==============================] - 0s 762us/step - loss: 0.4891 - accuracy: 0.7337\n",
      "Epoch 11/30\n",
      "43/43 [==============================] - 0s 810us/step - loss: 0.4824 - accuracy: 0.7711\n",
      "Epoch 12/30\n",
      "43/43 [==============================] - 0s 881us/step - loss: 0.4756 - accuracy: 0.7756\n",
      "Epoch 13/30\n",
      "43/43 [==============================] - 0s 738us/step - loss: 0.4689 - accuracy: 0.7808\n",
      "Epoch 14/30\n",
      "43/43 [==============================] - 0s 714us/step - loss: 0.4622 - accuracy: 0.7865\n",
      "Epoch 15/30\n",
      "43/43 [==============================] - 0s 714us/step - loss: 0.4557 - accuracy: 0.7983\n",
      "Epoch 16/30\n",
      "43/43 [==============================] - 0s 714us/step - loss: 0.4493 - accuracy: 0.7995\n",
      "Epoch 17/30\n",
      "43/43 [==============================] - 0s 691us/step - loss: 0.4426 - accuracy: 0.8168\n",
      "Epoch 18/30\n",
      "43/43 [==============================] - 0s 691us/step - loss: 0.4360 - accuracy: 0.8348\n",
      "Epoch 19/30\n",
      "43/43 [==============================] - 0s 667us/step - loss: 0.4295 - accuracy: 0.8693\n",
      "Epoch 20/30\n",
      "43/43 [==============================] - 0s 691us/step - loss: 0.4233 - accuracy: 0.8705\n",
      "Epoch 21/30\n",
      "43/43 [==============================] - 0s 691us/step - loss: 0.4171 - accuracy: 0.8741\n",
      "Epoch 22/30\n",
      "43/43 [==============================] - 0s 810us/step - loss: 0.4110 - accuracy: 0.8750\n",
      "Epoch 23/30\n",
      "43/43 [==============================] - 0s 762us/step - loss: 0.4050 - accuracy: 0.8821\n",
      "Epoch 24/30\n",
      "43/43 [==============================] - 0s 762us/step - loss: 0.3992 - accuracy: 0.8821\n",
      "Epoch 25/30\n",
      "43/43 [==============================] - 0s 738us/step - loss: 0.3935 - accuracy: 0.8852\n",
      "Epoch 26/30\n",
      "43/43 [==============================] - 0s 762us/step - loss: 0.3879 - accuracy: 0.8914\n",
      "Epoch 27/30\n",
      "43/43 [==============================] - 0s 714us/step - loss: 0.3824 - accuracy: 0.8918\n",
      "Epoch 28/30\n",
      "43/43 [==============================] - 0s 714us/step - loss: 0.3771 - accuracy: 0.8928\n",
      "Epoch 29/30\n",
      "43/43 [==============================] - 0s 714us/step - loss: 0.3718 - accuracy: 0.8989\n",
      "Epoch 30/30\n",
      "43/43 [==============================] - 0s 714us/step - loss: 0.3668 - accuracy: 0.9067\n"
     ]
    },
    {
     "data": {
      "text/plain": [
       "<keras.callbacks.History at 0x1c51a673f70>"
      ]
     },
     "execution_count": 39,
     "metadata": {},
     "output_type": "execute_result"
    }
   ],
   "source": [
    "\n",
    "\n",
    "x = Dense(64, activation=\"relu\")(inputA)\n",
    "x = Dense(32, activation=\"relu\")(x)\n",
    "x = Dense(8, activation=\"relu\")(x)                           \n",
    "x = Model(inputs=inputA, outputs=x)\n",
    "\n",
    "y = Dense(64, activation=\"relu\")(inputB)\n",
    "y = Dense(32, activation=\"relu\")(y)\n",
    "y = Dense(8, activation=\"relu\")(y)\n",
    "y = Model(inputs=inputB, outputs=y)\n",
    " \n",
    "\n",
    "z = Dense(64, activation=\"relu\")(inputC)\n",
    "z = Dense(32, activation=\"relu\")(z)\n",
    "z = Dense(8, activation=\"relu\")(z)\n",
    "z = Model(inputs=inputC, outputs=z)\n",
    " \n",
    "result = concatenate([x.output, y.output,z.output])\n",
    "\n",
    "\n",
    "k = Dense(2, activation=\"relu\")(result)\n",
    "# 선형 회귀를 위해 activation=linear를 설정\n",
    "k = Dense(1, activation=\"sigmoid\")(k)\n",
    "\n",
    "\n",
    "training_epochs = 30 \n",
    "batch_size = 100 \n",
    "\n",
    "model = Model(inputs=[x.input, y.input,z.input], outputs=k)\n",
    "\n",
    "model.compile(optimizer='sgd', loss = 'binary_crossentropy', metrics=['accuracy'])\n",
    "model.optimizer.lr = 0.001\n",
    "\n",
    "\n",
    "model.fit(x=[dragons_train,barons_train,towers_train], y=y_train, epochs = training_epochs, batch_size=batch_size)\n",
    "\n"
   ]
  },
  {
   "cell_type": "code",
   "execution_count": 40,
   "id": "60a2b3fb",
   "metadata": {},
   "outputs": [
    {
     "name": "stdout",
     "output_type": "stream",
     "text": [
      "11/11 [==============================] - 0s 600us/step - loss: 0.3786 - accuracy: 0.9063\n",
      "Accuracy: 0.9063386917114258\n"
     ]
    }
   ],
   "source": [
    "evaluation = model.evaluate([dragons_test,barons_test,towers_test], y_test, batch_size=batch_size) \n",
    "\n",
    "print('Accuracy: ' + str(evaluation[1]))\n"
   ]
  },
  {
   "cell_type": "code",
   "execution_count": null,
   "id": "aebc60cb",
   "metadata": {},
   "outputs": [],
   "source": []
  },
  {
   "cell_type": "code",
   "execution_count": null,
   "id": "c44e4d31",
   "metadata": {},
   "outputs": [],
   "source": []
  }
 ],
 "metadata": {
  "kernelspec": {
   "display_name": "Python 3",
   "language": "python",
   "name": "python3"
  },
  "language_info": {
   "codemirror_mode": {
    "name": "ipython",
    "version": 3
   },
   "file_extension": ".py",
   "mimetype": "text/x-python",
   "name": "python",
   "nbconvert_exporter": "python",
   "pygments_lexer": "ipython3",
   "version": "3.8.8"
  }
 },
 "nbformat": 4,
 "nbformat_minor": 5
}
