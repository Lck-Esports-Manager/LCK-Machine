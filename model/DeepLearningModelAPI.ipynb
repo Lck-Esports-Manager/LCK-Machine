{
 "cells": [
  {
   "cell_type": "code",
   "execution_count": 24,
   "id": "3448ec6c",
   "metadata": {},
   "outputs": [],
   "source": [
    "from keras.datasets import mnist\n",
    "from keras.utils.np_utils import to_categorical \n",
    "import numpy as np \n",
    "import pandas as pd\n",
    "\n",
    "from sklearn.preprocessing import minmax_scale \n",
    "from sklearn.model_selection import train_test_split\n",
    "\n",
    "from tensorflow.keras.models import Model\n",
    "\n",
    "from keras.models import Sequential \n",
    "from keras.layers import Input,Dense, Dropout, Activation, Flatten, concatenate\n",
    "from tensorflow.keras.optimizers import Adam"
   ]
  },
  {
   "cell_type": "code",
   "execution_count": 25,
   "id": "a596ddb9",
   "metadata": {},
   "outputs": [],
   "source": [
    "from keras.models import load_model\n",
    "model = load_model('LCK2.h5')"
   ]
  },
  {
   "cell_type": "code",
   "execution_count": 32,
   "id": "bbfde8c7",
   "metadata": {},
   "outputs": [
    {
     "name": "stderr",
     "output_type": "stream",
     "text": [
      "<ipython-input-32-4364d4ae4c95>:49: RuntimeWarning: invalid value encountered in double_scalars\n",
      "  return (np_input - mean) / std\n"
     ]
    },
    {
     "name": "stdout",
     "output_type": "stream",
     "text": [
      "[1.]\n"
     ]
    }
   ],
   "source": [
    "\n",
    "'''두 팀 사이의 타워 철거수, 바론 처치수, 드래곤 처치수 차이 및\n",
    "   두 팀이 상대로 만났을 경우 승리할 확률 등을 리턴한다.\n",
    "   \n",
    "'''\n",
    "def getDiff(team1, team2):\n",
    "    file_directory='../Preprocess/data_after/'\n",
    "    data=pd.read_csv(\"{0}match2.csv\".format(file_directory))\n",
    "\n",
    "    data= data.loc[:,['gameid','side','team','result','dragons','barons','towers']]\n",
    "    condition1 =(data.team == team1)\n",
    "    condition2 =(data.team == team2)\n",
    "    \n",
    "    \n",
    "    red = data[condition1]\n",
    "    blue = data[condition2]\n",
    "    \n",
    "    red_blue = pd.merge(red, blue, left_on='gameid', right_on='gameid', how='inner')\n",
    "   \n",
    "\n",
    "    team1_train = red_blue.loc[:,['result_x','dragons_x','barons_x','towers_x']]\n",
    "    team2_train = red_blue.loc[:,['result_y','dragons_y','barons_y','towers_y']]\n",
    "    \n",
    "    \n",
    "    \n",
    "    team1_train = team1_train.to_numpy()\n",
    "    team2_train = team2_train.to_numpy()\n",
    "    \n",
    "    team1_win = team1_train[:,0]\n",
    "    team2_win = team2_train[:,0]\n",
    "    \n",
    "    team1_win = np.mean(team1_win,axis=0)\n",
    "    team2_win = np.mean(team2_win, axis=0)\n",
    "    \n",
    "    team1_train = team1_train[:,1:4]\n",
    "    team2_train = team2_train[:,1:4]\n",
    "    \n",
    "\n",
    "    diff = team1_train - team2_train\n",
    "\n",
    "    \n",
    "    diff = np.mean(diff,axis=0)\n",
    "    \n",
    "\n",
    "    return team1_win,team2_win,diff\n",
    "\n",
    "def normalize(np_input):\n",
    "    mean= np_input.mean()\n",
    "    std = np_input.std()\n",
    "    return (np_input - mean) / std\n",
    "   \n",
    "    \n",
    "def showMatchResult(dragons_blue,barons_blue,towers_blue,totalgold_blue,\\\n",
    "                    dragons_red,barons_red,towers_red,totalgold_red,model):\n",
    "    \n",
    "    num=1\n",
    "   \n",
    "    dragons = dragons_blue - dragons_red\n",
    "    barons = barons_blue - barons_red\n",
    "    towers = towers_blue - towers_red\n",
    "    totalgold = totalgold_blue - totalgold_red\n",
    "    \n",
    "    \n",
    "    x = np.array(dragons)\n",
    "    y = np.array(barons)\n",
    "    z = np.array(towers)\n",
    "    a = np.array(totalgold)\n",
    "    print(a)\n",
    "    a = normalize(a) * 10\n",
    "    \n",
    "    x = np.asarray(x).astype('int32').reshape((-1,1))\n",
    "    y = np.asarray(y).astype('int32').reshape((-1,1))\n",
    "    z = np.asarray(z).astype('int32').reshape((-1,1))\n",
    "    a = np.asarray(a).astype('int32').reshape((-1,1))\n",
    "    preds = model.predict([x,y,z,a])\n",
    "    preds = preds.reshape(num,)\n",
    "    return preds\n",
    "\n",
    "def showMatchResult2(x,model):\n",
    "    preds = model.predict([x])\n",
    "    return preds\n",
    "\n",
    "\n",
    "model = load_model('LCK2.h5')\n",
    "#test 코드\n",
    "preds = showMatchResult(0,1,10,63835,0,0,4,47504,model) #여기에서 input은 다음과 같은 형태로 주어진다.\n",
    "                                                           #[1,-3,-6]은 \n",
    "print(preds)"
   ]
  },
  {
   "cell_type": "code",
   "execution_count": 29,
   "id": "ba5a20a6",
   "metadata": {},
   "outputs": [],
   "source": [
    "'''x는 [blue팀 드래곤 처치수, blue팀 바론 처치수, blue팀 타워 철거수, red팀 드래곤 처치수, red팀 바론 처치수, red팀 타워 철거수]의 형태로\n",
    "구성된 배열'''\n",
    "\n",
    "\n",
    "\n",
    "def predict_value(x):\n",
    "    x = np.array(x)\n",
    "    y = model.predict(x)\n",
    "    return y\n",
    " \n",
    "    "
   ]
  },
  {
   "cell_type": "code",
   "execution_count": 30,
   "id": "c29b8cb0",
   "metadata": {},
   "outputs": [
    {
     "name": "stdout",
     "output_type": "stream",
     "text": [
      "nan\n",
      "nan\n",
      "[nan nan nan]\n"
     ]
    },
    {
     "name": "stderr",
     "output_type": "stream",
     "text": [
      "C:\\Users\\kwcha\\anaconda3\\lib\\site-packages\\numpy\\core\\fromnumeric.py:3372: RuntimeWarning: Mean of empty slice.\n",
      "  return _methods._mean(a, axis=axis, dtype=dtype,\n",
      "C:\\Users\\kwcha\\anaconda3\\lib\\site-packages\\numpy\\core\\_methods.py:170: RuntimeWarning: invalid value encountered in double_scalars\n",
      "  ret = ret.dtype.type(ret / rcount)\n",
      "C:\\Users\\kwcha\\anaconda3\\lib\\site-packages\\numpy\\core\\_methods.py:162: RuntimeWarning: invalid value encountered in true_divide\n",
      "  ret = um.true_divide(\n"
     ]
    }
   ],
   "source": [
    "\n",
    "\n",
    "team1_win,team2_win,diff = getDiff('NeJon i-mFori','SK Tilicum T1')\n",
    "print(team1_win)\n",
    "print(team2_win)\n",
    "print(diff) #여기서 diff는 team1의 드래곤 처치수, 바론 처치수, 타워 철거수 이 세가지를 \n",
    "            #team2의 드래곤 처치수, 바론 처치수, 타워 철거수와 뺄셈을 한 것이다.\n"
   ]
  },
  {
   "cell_type": "code",
   "execution_count": null,
   "id": "20eaf1bf",
   "metadata": {},
   "outputs": [],
   "source": []
  },
  {
   "cell_type": "code",
   "execution_count": null,
   "id": "984fdbc2",
   "metadata": {},
   "outputs": [],
   "source": []
  },
  {
   "cell_type": "code",
   "execution_count": null,
   "id": "cdb85d64",
   "metadata": {},
   "outputs": [],
   "source": []
  }
 ],
 "metadata": {
  "kernelspec": {
   "display_name": "Python 3",
   "language": "python",
   "name": "python3"
  },
  "language_info": {
   "codemirror_mode": {
    "name": "ipython",
    "version": 3
   },
   "file_extension": ".py",
   "mimetype": "text/x-python",
   "name": "python",
   "nbconvert_exporter": "python",
   "pygments_lexer": "ipython3",
   "version": "3.8.8"
  }
 },
 "nbformat": 4,
 "nbformat_minor": 5
}
