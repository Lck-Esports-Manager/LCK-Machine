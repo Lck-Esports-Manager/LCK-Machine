{
 "cells": [
  {
   "cell_type": "markdown",
   "id": "d0e06829",
   "metadata": {},
   "source": [
    "# 챔피언 데이터 전처리"
   ]
  },
  {
   "cell_type": "code",
   "execution_count": 1,
   "id": "903c4a3c",
   "metadata": {},
   "outputs": [],
   "source": [
    "import pandas as pd"
   ]
  },
  {
   "cell_type": "code",
   "execution_count": 2,
   "id": "8810f713",
   "metadata": {},
   "outputs": [],
   "source": [
    "useful_attributes=['Champion','Pos','GP','P+B%','W%']"
   ]
  },
  {
   "cell_type": "code",
   "execution_count": 3,
   "id": "fb99ba1d",
   "metadata": {},
   "outputs": [],
   "source": [
    "data_list=[]"
   ]
  },
  {
   "cell_type": "code",
   "execution_count": 4,
   "id": "4ebe1ebd",
   "metadata": {},
   "outputs": [],
   "source": [
    "year=['15','16','17','18','19','20','21']\n",
    "season=['Spring','Summer']\n",
    "file_directory='./data_before/champion/'"
   ]
  },
  {
   "cell_type": "markdown",
   "id": "5adf395b",
   "metadata": {},
   "source": [
    "## 데이터 전처리 과정"
   ]
  },
  {
   "cell_type": "code",
   "execution_count": 5,
   "id": "4f74886b",
   "metadata": {},
   "outputs": [],
   "source": [
    "for elem1 in year:\n",
    "    for elem2 in season:\n",
    "        \n",
    "        if elem1=='21' and elem2=='Summer':\n",
    "            continue\n",
    "            \n",
    "        data=pd.read_csv(\"{0}{1}{2}Champ.csv\".format(file_directory,elem1,elem2),usecols=useful_attributes)\n",
    "    \n",
    "        data=data.drop(data[data['GP']==0].index)\n",
    "        \n",
    "        data['P+B%']=data['P+B%'].apply(lambda x:str(x).split('%')[0])\n",
    "        data['W%']=data['W%'].apply(lambda x:str(x).split('%')[0])\n",
    "        \n",
    "        data=data.astype({'P+B%':'float64','W%':'int64'})\n",
    "\n",
    "        \n",
    "        data['Year']=[elem1]*data.shape[0]\n",
    "        data['Season']=[elem2]*data.shape[0]\n",
    "        \n",
    "        data_list.append(data)\n"
   ]
  },
  {
   "cell_type": "code",
   "execution_count": 6,
   "id": "6ac17616",
   "metadata": {},
   "outputs": [],
   "source": [
    "all_data=pd.concat(data_list,axis=0,ignore_index=True)"
   ]
  },
  {
   "cell_type": "code",
   "execution_count": 7,
   "id": "34e9ae07",
   "metadata": {},
   "outputs": [],
   "source": [
    "all_data=all_data.set_index(['Year','Season'])"
   ]
  },
  {
   "cell_type": "markdown",
   "id": "61085fbd",
   "metadata": {},
   "source": [
    "## 데이터 csv 파일로 바꾸기"
   ]
  },
  {
   "cell_type": "code",
   "execution_count": 8,
   "id": "dd601bdd",
   "metadata": {},
   "outputs": [],
   "source": [
    "all_data.to_csv('./data_after/champion.csv')"
   ]
  },
  {
   "cell_type": "code",
   "execution_count": null,
   "id": "5afe0343",
   "metadata": {},
   "outputs": [],
   "source": []
  }
 ],
 "metadata": {
  "kernelspec": {
   "display_name": "Python 3",
   "language": "python",
   "name": "python3"
  },
  "language_info": {
   "codemirror_mode": {
    "name": "ipython",
    "version": 3
   },
   "file_extension": ".py",
   "mimetype": "text/x-python",
   "name": "python",
   "nbconvert_exporter": "python",
   "pygments_lexer": "ipython3",
   "version": "3.8.8"
  }
 },
 "nbformat": 4,
 "nbformat_minor": 5
}
