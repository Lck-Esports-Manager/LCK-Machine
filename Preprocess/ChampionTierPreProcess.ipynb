{
 "cells": [
  {
   "cell_type": "code",
   "execution_count": null,
   "id": "3d937be1",
   "metadata": {},
   "outputs": [],
   "source": [
    "import pandas as pd\n",
    "import numpy as np\n"
   ]
  },
  {
   "cell_type": "code",
   "execution_count": null,
   "id": "27bc96e5",
   "metadata": {},
   "outputs": [],
   "source": [
    "data_list=[]\n",
    "\n",
    "player_tier = 5 \n",
    "\n",
    "year=['15','16','17','18','19','20','21']\n",
    "season=['Spring','Summer']\n",
    "file_directory='./data_before/champion/'"
   ]
  },
  {
   "cell_type": "code",
   "execution_count": null,
   "id": "4737e8e8",
   "metadata": {},
   "outputs": [],
   "source": [
    "def minmax_norm(df_input):\n",
    "    return (df_input - df_input.min()) / ( df_input.max() - df_input.min())\n",
    "\n",
    "def normalize(df_input):\n",
    "    return (df_input - df_input.mean()) / df_input.std()\n",
    "\n",
    "\n",
    "\n",
    "'''\n",
    "P(Z>=0.84) = 약 0.2\n",
    "P(Z>=0.25) = 약 0.4\n",
    "P(Z>=-0.25) = 약 0.6\n",
    "P(Z>=-0.84) = 약 0.8\n",
    "'''\n",
    "#이 함수에서 x는 정규분포의 Z값이라 가정\n",
    "def give_level(x):\n",
    "    if x>=0.84:\n",
    "        return 1\n",
    "    elif x>=0.25:\n",
    "        return 2\n",
    "    elif x>=-0.25:\n",
    "        return 3\n",
    "    elif x>=-0.84:\n",
    "        return 4\n",
    "    else:\n",
    "        return 5\n",
    "\n",
    "def player_preprocess(df):\n",
    "    weight_1 = 0.4\n",
    "    weight_2 = 0.3\n",
    "    weight_3 = 0.15\n",
    "    weight_4 = 0.15\n",
    "    \n",
    "    Win = minmax_norm(df['GD10'])\n",
    "    KDA =minmax_norm(df['XPD10'])\n",
    "    CS = minmax_norm(df['CSD10'])\n",
    "    Gold = minmax_norm(df['CSD10'])\n",
    "    \n",
    "    total_ability = Win * weight_1 + KDA * weight_2 + CS * weight_3 + Gold * weight_4\n",
    "    total_ability = normalize(total_ability)\n",
    "    tier = pd.DataFrame({'Tier':total_ability})\n",
    "    tier['Tier'] = tier['Tier']=np.floor(tier['Tier'].astype('int64'))\n",
    "    \n",
    "    df = pd.concat([df,tier],axis=1)\n",
    "    \n",
    "    \n",
    "    \n",
    "    print(df)\n",
    "    return df\n",
    "        \n",
    "        \n",
    "    "
   ]
  },
  {
   "cell_type": "code",
   "execution_count": null,
   "id": "04899cce",
   "metadata": {},
   "outputs": [],
   "source": [
    "data=pd.read_csv(\"{0}champion2.csv\".format(file_directory))"
   ]
  }
 ],
 "metadata": {
  "kernelspec": {
   "display_name": "Python 3",
   "language": "python",
   "name": "python3"
  },
  "language_info": {
   "codemirror_mode": {
    "name": "ipython",
    "version": 3
   },
   "file_extension": ".py",
   "mimetype": "text/x-python",
   "name": "python",
   "nbconvert_exporter": "python",
   "pygments_lexer": "ipython3",
   "version": "3.8.8"
  }
 },
 "nbformat": 4,
 "nbformat_minor": 5
}
