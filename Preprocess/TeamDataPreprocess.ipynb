{
 "cells": [
  {
   "cell_type": "markdown",
   "id": "2cea8152",
   "metadata": {},
   "source": [
    "# 팀 목록 데이터 만들기"
   ]
  },
  {
   "cell_type": "code",
   "execution_count": 55,
   "id": "0dd8b346",
   "metadata": {},
   "outputs": [],
   "source": [
    "import pandas as pd\n",
    "import numpy as np\n"
   ]
  },
  {
   "cell_type": "code",
   "execution_count": 56,
   "id": "9db965db",
   "metadata": {},
   "outputs": [],
   "source": [
    "useful_attributes=['Team']\n",
    "useful_attributes2=['Player','Team','Pos']"
   ]
  },
  {
   "cell_type": "code",
   "execution_count": 57,
   "id": "34a0f667",
   "metadata": {},
   "outputs": [],
   "source": [
    "year=['15','16','17','18','19','20','21']\n",
    "season=['Spring','Summer']\n",
    "file_directory='./data_before/team/'\n",
    "file_directory2 = './data_before/player/'"
   ]
  },
  {
   "cell_type": "code",
   "execution_count": 58,
   "id": "19e93371",
   "metadata": {},
   "outputs": [],
   "source": [
    "data_list=[]"
   ]
  },
  {
   "cell_type": "code",
   "execution_count": 59,
   "id": "98130388",
   "metadata": {},
   "outputs": [],
   "source": [
    "for elem1 in year:\n",
    "    for elem2 in season:\n",
    "        \n",
    "        if elem1=='21' and elem2=='Summer':\n",
    "            continue\n",
    "            \n",
    "        data=pd.read_csv(\"{0}{1}{2}Team.csv\".format(file_directory,elem1,elem2),usecols=useful_attributes)\n",
    "        data2= pd.read_csv(\"{0}{1}{2}Player.csv\".format(file_directory2,elem1,elem2),usecols=useful_attributes2)\n",
    "        data['Year']=[elem1]*data.shape[0]\n",
    "        data['season']=[elem2]*data.shape[0]\n",
    "        \n",
    "        \n",
    "        members = pd.DataFrame(columns=['Player','Pos'])\n",
    "        for idx in data.index:\n",
    "            for idx2 in data2.index:\n",
    "                \n",
    "                if data.loc[idx,'Team']==data2.loc[idx2,'Team']:\n",
    "                    member = data2.loc[idx2,['Player','Pos']]\n",
    "                    pd.concat([members,member],axis=1)\n",
    "             \n",
    "            members.to_csv('./data_after/'+str(elem1)+'_'+'team/'+str(data.loc[idx,'Team'])+'.csv')\n",
    "                    \n",
    "        \n",
    "        \n",
    "        \n",
    "        data_list.append(data)\n",
    "        \n",
    "    all_data=pd.concat(data_list,axis=0,ignore_index=True)\n",
    "    all_data.to_csv('./data_after/'+str(elem1)+'_team.csv')"
   ]
  },
  {
   "cell_type": "code",
   "execution_count": 6,
   "id": "c10468f1",
   "metadata": {},
   "outputs": [],
   "source": []
  },
  {
   "cell_type": "code",
   "execution_count": 7,
   "id": "febe9a9e",
   "metadata": {},
   "outputs": [
    {
     "data": {
      "text/html": [
       "<div>\n",
       "<style scoped>\n",
       "    .dataframe tbody tr th:only-of-type {\n",
       "        vertical-align: middle;\n",
       "    }\n",
       "\n",
       "    .dataframe tbody tr th {\n",
       "        vertical-align: top;\n",
       "    }\n",
       "\n",
       "    .dataframe thead th {\n",
       "        text-align: right;\n",
       "    }\n",
       "</style>\n",
       "<table border=\"1\" class=\"dataframe\">\n",
       "  <thead>\n",
       "    <tr style=\"text-align: right;\">\n",
       "      <th></th>\n",
       "      <th>Team</th>\n",
       "      <th>Year</th>\n",
       "      <th>season</th>\n",
       "    </tr>\n",
       "  </thead>\n",
       "  <tbody>\n",
       "    <tr>\n",
       "      <th>0</th>\n",
       "      <td>CJ Entus</td>\n",
       "      <td>15</td>\n",
       "      <td>Spring</td>\n",
       "    </tr>\n",
       "    <tr>\n",
       "      <th>1</th>\n",
       "      <td>Incredible Miracle</td>\n",
       "      <td>15</td>\n",
       "      <td>Spring</td>\n",
       "    </tr>\n",
       "    <tr>\n",
       "      <th>2</th>\n",
       "      <td>Jin Air Green Wings</td>\n",
       "      <td>15</td>\n",
       "      <td>Spring</td>\n",
       "    </tr>\n",
       "    <tr>\n",
       "      <th>3</th>\n",
       "      <td>KT Rolster</td>\n",
       "      <td>15</td>\n",
       "      <td>Spring</td>\n",
       "    </tr>\n",
       "    <tr>\n",
       "      <th>4</th>\n",
       "      <td>NaJin e-mFire</td>\n",
       "      <td>15</td>\n",
       "      <td>Spring</td>\n",
       "    </tr>\n",
       "    <tr>\n",
       "      <th>...</th>\n",
       "      <td>...</td>\n",
       "      <td>...</td>\n",
       "      <td>...</td>\n",
       "    </tr>\n",
       "    <tr>\n",
       "      <th>124</th>\n",
       "      <td>Hanwha Life Esports</td>\n",
       "      <td>21</td>\n",
       "      <td>Spring</td>\n",
       "    </tr>\n",
       "    <tr>\n",
       "      <th>125</th>\n",
       "      <td>KT Rolster</td>\n",
       "      <td>21</td>\n",
       "      <td>Spring</td>\n",
       "    </tr>\n",
       "    <tr>\n",
       "      <th>126</th>\n",
       "      <td>Liiv SANDBOX</td>\n",
       "      <td>21</td>\n",
       "      <td>Spring</td>\n",
       "    </tr>\n",
       "    <tr>\n",
       "      <th>127</th>\n",
       "      <td>Nongshim RedForce</td>\n",
       "      <td>21</td>\n",
       "      <td>Spring</td>\n",
       "    </tr>\n",
       "    <tr>\n",
       "      <th>128</th>\n",
       "      <td>T1</td>\n",
       "      <td>21</td>\n",
       "      <td>Spring</td>\n",
       "    </tr>\n",
       "  </tbody>\n",
       "</table>\n",
       "<p>129 rows × 3 columns</p>\n",
       "</div>"
      ],
      "text/plain": [
       "                    Team Year  season\n",
       "0               CJ Entus   15  Spring\n",
       "1     Incredible Miracle   15  Spring\n",
       "2    Jin Air Green Wings   15  Spring\n",
       "3             KT Rolster   15  Spring\n",
       "4          NaJin e-mFire   15  Spring\n",
       "..                   ...  ...     ...\n",
       "124  Hanwha Life Esports   21  Spring\n",
       "125           KT Rolster   21  Spring\n",
       "126         Liiv SANDBOX   21  Spring\n",
       "127    Nongshim RedForce   21  Spring\n",
       "128                   T1   21  Spring\n",
       "\n",
       "[129 rows x 3 columns]"
      ]
     },
     "execution_count": 7,
     "metadata": {},
     "output_type": "execute_result"
    }
   ],
   "source": []
  },
  {
   "cell_type": "code",
   "execution_count": 8,
   "id": "fe4d1437",
   "metadata": {},
   "outputs": [],
   "source": []
  }
 ],
 "metadata": {
  "kernelspec": {
   "display_name": "Python 3",
   "language": "python",
   "name": "python3"
  },
  "language_info": {
   "codemirror_mode": {
    "name": "ipython",
    "version": 3
   },
   "file_extension": ".py",
   "mimetype": "text/x-python",
   "name": "python",
   "nbconvert_exporter": "python",
   "pygments_lexer": "ipython3",
   "version": "3.8.8"
  }
 },
 "nbformat": 4,
 "nbformat_minor": 5
}
