{
 "cells": [
  {
   "cell_type": "markdown",
   "id": "d0e06829",
   "metadata": {},
   "source": [
    "# 챔피언 데이터 전처리"
   ]
  },
  {
   "cell_type": "code",
   "execution_count": 1,
   "id": "903c4a3c",
   "metadata": {},
   "outputs": [],
   "source": [
    "import pandas as pd"
   ]
  },
  {
   "cell_type": "code",
   "execution_count": 2,
   "id": "8810f713",
   "metadata": {},
   "outputs": [],
   "source": [
    "useful_attributes=['Champion','Pos','GP','P+B%','W%']"
   ]
  },
  {
   "cell_type": "code",
   "execution_count": 3,
   "id": "fb99ba1d",
   "metadata": {},
   "outputs": [],
   "source": [
    "data_list=[]"
   ]
  },
  {
   "cell_type": "code",
   "execution_count": 4,
   "id": "4ebe1ebd",
   "metadata": {},
   "outputs": [],
   "source": [
    "year=['15','16','17','18','19','20','21']\n",
    "season=['Spring','Summer']\n",
    "file_directory='./data_before/champion/'"
   ]
  },
  {
   "cell_type": "markdown",
   "id": "5adf395b",
   "metadata": {},
   "source": [
    "## 데이터 전처리 과정"
   ]
  },
  {
   "cell_type": "code",
   "execution_count": 5,
   "id": "4f74886b",
   "metadata": {},
   "outputs": [],
   "source": [
    "for elem1 in year:\n",
    "    for elem2 in season:\n",
    "        \n",
    "        if elem1=='21' and elem2=='Summer':\n",
    "            continue\n",
    "            \n",
    "        data=pd.read_csv(\"{0}{1}{2}Champ.csv\".format(file_directory,elem1,elem2),usecols=useful_attributes)\n",
    "    \n",
    "        data=data.drop(data[data['GP']==0].index)\n",
    "        \n",
    "        data['P+B%']=data['P+B%'].apply(lambda x:str(x).split('%')[0])\n",
    "        data['W%']=data['W%'].apply(lambda x:str(x).split('%')[0])\n",
    "        \n",
    "        data=data.astype({'P+B%':'float64','W%':'int64'})\n",
    "\n",
    "        \n",
    "        data['Year']=[elem1]*data.shape[0]\n",
    "        data['Season']=[elem2]*data.shape[0]\n",
    "        \n",
    "        data_list.append(data)\n",
    "\n",
    "        \n",
    "        \n",
    "'''\n",
    "def minmax_norm(df_input):\n",
    "    return (df_input - df_input.min()) / ( df_input.max() - df_input.min())\n",
    "\n",
    "def normalize(df_input):\n",
    "    return (df_input - df_input.mean()) / df_input.std()\n",
    "\n",
    "\n",
    "\n",
    "\n",
    "P(Z>=0.84) = 약 0.2\n",
    "P(Z>=0.25) = 약 0.4\n",
    "P(Z>=-0.25) = 약 0.6\n",
    "P(Z>=-0.84) = 약 0.8\n",
    "\n",
    "#이 함수에서 x는 정규분포의 Z값이라 가정\n",
    "def give_level(x):\n",
    "    if x>=0.84:\n",
    "        return 1\n",
    "    elif x>=0.25:\n",
    "        return 2\n",
    "    elif x>=-0.25:\n",
    "        return 3\n",
    "    elif x>=-0.84:\n",
    "        return 4\n",
    "    else:\n",
    "        return 5\n",
    "\n",
    "def player_preprocess(df):\n",
    "    gold = minmax_norm(df['GD10'])\n",
    "    XP =minmax_norm(df['XPD10'])\n",
    "    CS = minmax_norm(df['CSD10'])\n",
    "\n",
    "    laning = gold + XP + CS\n",
    "    laning = normalize(laning)\n",
    "    laning = pd.DataFrame({'Laning':laning})\n",
    "\n",
    "    laning = laning['Laning'].apply(give_level)\n",
    "    df = pd.concat([df,laning],axis=1)\n",
    "\n",
    "    KP = normalize(df['KP'])\n",
    "    KDA = minmax_norm(df['KDA'])\n",
    "    DPM = minmax_norm(df['DPM'])\n",
    "    Win = minmax_norm(df['W%'])\n",
    "    \n",
    "\n",
    "    \n",
    "    engage = 0.4 * KP + 0.6 * Win\n",
    "    engage = normalize(engage)\n",
    "    engage = pd.DataFrame({'Engage':engage})\n",
    "    engage = engage['Engage'].apply(give_level)\n",
    "    df = pd.concat([df,engage],axis=1)\n",
    "    \n",
    "    fight = DPM + KDA\n",
    "    fight = normalize(fight)\n",
    "    fight = pd.DataFrame({'Fight':fight})\n",
    "    fight = fight['Fight'].apply(give_level)\n",
    "    df = pd.concat([df,fight],axis=1)\n",
    "\n",
    "\n",
    "\n",
    "    total_ability = ((laning + engage + fight) / 3)\n",
    "\n",
    "    tier = pd.DataFrame({'Tier':total_ability})\n",
    "    tier['Tier'] = tier['Tier']=np.floor(tier['Tier'].astype('int64'))\n",
    "    \n",
    "    df = pd.concat([df,tier],axis=1)\n",
    "    df = df.drop(columns = ['GD10','XPD10','CSD10'])\n",
    "    print(\"처리된 데이터프레임은?\")\n",
    "    print(df)\n",
    "    return df\n",
    "'''"
   ]
  },
  {
   "cell_type": "code",
   "execution_count": 6,
   "id": "6ac17616",
   "metadata": {},
   "outputs": [],
   "source": [
    "all_data=pd.concat(data_list,axis=0,ignore_index=True)"
   ]
  },
  {
   "cell_type": "code",
   "execution_count": 7,
   "id": "34e9ae07",
   "metadata": {},
   "outputs": [],
   "source": [
    "all_data=all_data.set_index(['Year','Season'])"
   ]
  },
  {
   "cell_type": "markdown",
   "id": "61085fbd",
   "metadata": {},
   "source": [
    "## 데이터 csv 파일로 바꾸기"
   ]
  },
  {
   "cell_type": "code",
   "execution_count": 8,
   "id": "dd601bdd",
   "metadata": {},
   "outputs": [],
   "source": [
    "all_data.to_csv('./data_after/champion.csv')"
   ]
  },
  {
   "cell_type": "code",
   "execution_count": null,
   "id": "5afe0343",
   "metadata": {},
   "outputs": [],
   "source": []
  }
 ],
 "metadata": {
  "kernelspec": {
   "display_name": "Python 3",
   "language": "python",
   "name": "python3"
  },
  "language_info": {
   "codemirror_mode": {
    "name": "ipython",
    "version": 3
   },
   "file_extension": ".py",
   "mimetype": "text/x-python",
   "name": "python",
   "nbconvert_exporter": "python",
   "pygments_lexer": "ipython3",
   "version": "3.8.8"
  }
 },
 "nbformat": 4,
 "nbformat_minor": 5
}
