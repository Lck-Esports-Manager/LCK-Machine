{
 "cells": [
  {
   "cell_type": "code",
   "execution_count": 16,
   "id": "d78fdc7f",
   "metadata": {},
   "outputs": [],
   "source": [
    "import pandas as pd\n",
    "import numpy as np\n",
    "from datetime import date\n"
   ]
  },
  {
   "cell_type": "code",
   "execution_count": 17,
   "id": "37f859a0",
   "metadata": {},
   "outputs": [],
   "source": [
    "useful_attributes=['Player', 'Team', 'Pos', 'W%', 'KDA','KP', 'GD10', 'XPD10', 'CSD10','DPM']\n",
    "\n",
    "data_list=[]\n",
    "\n",
    "player_tier = 5 \n",
    "\n",
    "player_list = []"
   ]
  },
  {
   "cell_type": "code",
   "execution_count": 18,
   "id": "e35dcd33",
   "metadata": {},
   "outputs": [],
   "source": [
    "year=['15','16','17','18','19','20','21']\n",
    "season=['Spring','Summer']\n",
    "file_directory='./data_before/player/'\n",
    "file_directory2='./data_before/match/'\n",
    "\n",
    "def change_player_name(x):\n",
    "    table = str.maketrans('aeiou', 'eioua')\n",
    "    x = x.translate(table)\n",
    "    return x\n",
    "\n",
    "\n",
    "def change_team_name(x):\n",
    "    table = str.maketrans('aeiou', 'eioua')\n",
    "    x = x.translate(table)\n",
    "    return x\n"
   ]
  },
  {
   "cell_type": "code",
   "execution_count": 19,
   "id": "6588c950",
   "metadata": {},
   "outputs": [
    {
     "name": "stdout",
     "output_type": "stream",
     "text": [
      "<class 'pandas.core.frame.DataFrame'>\n",
      "RangeIndex: 906 entries, 0 to 905\n",
      "Data columns (total 15 columns):\n",
      " #   Column      Non-Null Count  Dtype  \n",
      "---  ------      --------------  -----  \n",
      " 0   Unnamed: 0  906 non-null    int64  \n",
      " 1   Year        906 non-null    int64  \n",
      " 2   Season      906 non-null    object \n",
      " 3   Player      906 non-null    object \n",
      " 4   Team        906 non-null    object \n",
      " 5   Pos         906 non-null    object \n",
      " 6   W%          906 non-null    int64  \n",
      " 7   KDA         906 non-null    float64\n",
      " 8   KP          906 non-null    float64\n",
      " 9   DPM         906 non-null    int64  \n",
      " 10  Laning      906 non-null    int64  \n",
      " 11  Engage      906 non-null    int64  \n",
      " 12  Fight       906 non-null    int64  \n",
      " 13  Tier        906 non-null    int64  \n",
      " 14  Price       906 non-null    int64  \n",
      "dtypes: float64(2), int64(9), object(4)\n",
      "memory usage: 106.3+ KB\n",
      "None\n"
     ]
    }
   ],
   "source": [
    "\n",
    "\n",
    "data=pd.read_csv(\"{0}player1.csv\".format(file_directory))\n",
    "\n",
    "print(data.info())\n",
    "\n",
    "data = data.astype({'KP':'float64','W%':'float64'})\n",
    "\n",
    "data_list.append(data)"
   ]
  },
  {
   "cell_type": "code",
   "execution_count": 20,
   "id": "f81e5196",
   "metadata": {},
   "outputs": [],
   "source": [
    "all_data=pd.concat(data_list,axis=0,ignore_index=True)"
   ]
  },
  {
   "cell_type": "code",
   "execution_count": 21,
   "id": "5925fc77",
   "metadata": {},
   "outputs": [],
   "source": [
    "def change_name(x):\n",
    "    if x=='Ssol':\n",
    "        return 'SS'\n",
    "    if x=='Yeongjae':\n",
    "        return 'YoungJae'\n",
    "    else:\n",
    "        return x"
   ]
  },
  {
   "cell_type": "code",
   "execution_count": 22,
   "id": "6d19e0ac",
   "metadata": {},
   "outputs": [],
   "source": [
    "all_data['Player']=all_data['Player'].apply(change_name)\n",
    "all_data['Player']=all_data['Player'].apply(change_player_name)"
   ]
  },
  {
   "cell_type": "code",
   "execution_count": null,
   "id": "36745ae7",
   "metadata": {},
   "outputs": [],
   "source": []
  },
  {
   "cell_type": "code",
   "execution_count": 23,
   "id": "3e2f7436",
   "metadata": {},
   "outputs": [],
   "source": [
    "all_data.to_csv('./data_after/player1.csv')\n",
    "\n"
   ]
  },
  {
   "cell_type": "code",
   "execution_count": 24,
   "id": "da2f6656",
   "metadata": {},
   "outputs": [],
   "source": [
    "useful_attributes=['gameid','league','year','split','playerid','side','position','player','team','champion','result','date']\n",
    "data_list=[]\n",
    "year=['15','16','17','18','19','20','21']\n",
    "file_directory='./data_before/match/'"
   ]
  },
  {
   "cell_type": "code",
   "execution_count": 25,
   "id": "4129547e",
   "metadata": {},
   "outputs": [],
   "source": [
    "season_duration={\n",
    "                '15Spring':[date(2015,1,7),date(2015,4,12)],\n",
    "                '15Summer':[date(2015,5,20),date(2015,8,14)],\n",
    "                '16Spring':[date(2016,1,13),date(2016,4,10)],\n",
    "                '16Summer':[date(2016,5,25),date(2016,8,7)],\n",
    "                '17Spring':[date(2017,1,17),date(2017,4,3)],\n",
    "                '17Summer':[date(2017,5,30),date(2017,8,7)],\n",
    "                '18Spring':[date(2018,1,17),date(2018,3,26)],\n",
    "                '18Summer':[date(2018,6,12),date(2018,8,10)],\n",
    "                '19Spring':[date(2019,1,16),date(2019,4,1)],\n",
    "                '19Summer':[date(2019,6,5),date(2019,8,19)],\n",
    "                '20Spring':[date(2020,2,5),date(2020,4,17)],\n",
    "                '20Summer':[date(2020,6,17),date(2020,8,24)],\n",
    "                '21Spring':[date(2021,1,13),date(2021,3,1)]\n",
    "                }"
   ]
  },
  {
   "cell_type": "code",
   "execution_count": 26,
   "id": "2fb48ffc",
   "metadata": {},
   "outputs": [],
   "source": [
    "data=pd.read_csv(\"./data_before/match/16.csv\",usecols=['date'])"
   ]
  },
  {
   "cell_type": "code",
   "execution_count": 27,
   "id": "a6abcc53",
   "metadata": {},
   "outputs": [],
   "source": [
    "def change_pos_name(x):\n",
    "    if x=='top':\n",
    "        return 'Top'\n",
    "    elif x=='jng':\n",
    "        return 'Jungle'\n",
    "    elif x=='mid':\n",
    "        return 'Middle'\n",
    "    elif x=='bot':\n",
    "        return 'ADC'\n",
    "    else:\n",
    "        return 'Support'"
   ]
  },
  {
   "cell_type": "code",
   "execution_count": 28,
   "id": "2116ef0a",
   "metadata": {},
   "outputs": [],
   "source": [
    "def change_side_to_int(x):\n",
    "    if x=='Blue':\n",
    "        return 1\n",
    "    else:\n",
    "        return 0\n",
    "    \n",
    "    "
   ]
  },
  {
   "cell_type": "code",
   "execution_count": 29,
   "id": "776b8ada",
   "metadata": {},
   "outputs": [
    {
     "name": "stderr",
     "output_type": "stream",
     "text": [
      "C:\\Users\\kwcha\\anaconda3\\lib\\site-packages\\IPython\\core\\interactiveshell.py:3165: DtypeWarning: Columns (5) have mixed types.Specify dtype option on import or set low_memory=False.\n",
      "  has_raised = await self.run_ast_nodes(code_ast.body, cell_name,\n"
     ]
    }
   ],
   "source": [
    "for elem in year:\n",
    "    \n",
    "    data=pd.read_csv(\"{0}{1}.csv\".format(file_directory,elem),usecols=useful_attributes)\n",
    " \n",
    "    if elem=='15':\n",
    "        cond1=data['league']=='LTC'\n",
    "        data=data[cond1]\n",
    "        data['league']=data['league'].apply(lambda x:'LCK')\n",
    "    else:\n",
    "        cond1=data['league']=='LCK'\n",
    "        data=data[cond1]\n",
    "        \n",
    "        \n",
    "        \n",
    "    data.dropna(axis=0,inplace=True)\n",
    "    data['side']=data['side'].apply(change_side_to_int)\n",
    "    data['position']=data['position'].apply(change_pos_name)\n",
    "    data['player'] = data['player'].apply(change_player_name)\n",
    "    data_list.append(data)\n",
    "    "
   ]
  },
  {
   "cell_type": "code",
   "execution_count": 30,
   "id": "9fe9d1d2",
   "metadata": {},
   "outputs": [],
   "source": [
    "all_data=pd.concat(data_list,axis=0,ignore_index=True)\n",
    "\n",
    "all_data.set_index(['gameid'],inplace=True)\n",
    "\n",
    "index=set(all_data.index)\n",
    "\n",
    "\n",
    "all_data['date']=pd.to_datetime(all_data['date'])\n",
    "\n",
    "count=0\n",
    "for elem in index:\n",
    "    season=all_data.loc[elem]['split'].iloc[0]\n",
    "    year=all_data.loc[elem]['year'].iloc[0]-2000\n",
    "    date=all_data.loc[elem]['date'].iloc[0]\n",
    "    if year==21 and season=='Summer':\n",
    "        all_data.drop(index=elem,inplace=True)\n",
    "        continue\n",
    "    season_duration_data=season_duration['{0}{1}'.format(year,season)]\n",
    "    if not (season_duration_data[0]<=date<season_duration_data[1]):\n",
    "        all_data.drop(index=elem,inplace=True)\n",
    "        \n",
    "        \n"
   ]
  },
  {
   "cell_type": "code",
   "execution_count": 31,
   "id": "8edb1d03",
   "metadata": {},
   "outputs": [],
   "source": [
    "all_data['player']=all_data['player'].apply(change_name)\n",
    "\n",
    "all_data.to_csv('./data_after/match.csv',index=True)"
   ]
  },
  {
   "cell_type": "code",
   "execution_count": 32,
   "id": "ec07e970",
   "metadata": {},
   "outputs": [],
   "source": [
    "\n",
    "data_list=[]\n",
    "data=pd.read_csv(\"./data_after/team.csv\")\n",
    "data_list.append(data)\n",
    "all_data=pd.concat(data_list,axis=0,ignore_index=True)\n",
    "\n",
    "all_data['Team']=all_data['Team'].apply(change_team_name)\n"
   ]
  },
  {
   "cell_type": "code",
   "execution_count": 33,
   "id": "eedf2a39",
   "metadata": {},
   "outputs": [],
   "source": [
    "all_data.to_csv('./data_after/team.csv')"
   ]
  },
  {
   "cell_type": "code",
   "execution_count": null,
   "id": "4cb60a54",
   "metadata": {},
   "outputs": [],
   "source": []
  }
 ],
 "metadata": {
  "kernelspec": {
   "display_name": "Python 3",
   "language": "python",
   "name": "python3"
  },
  "language_info": {
   "codemirror_mode": {
    "name": "ipython",
    "version": 3
   },
   "file_extension": ".py",
   "mimetype": "text/x-python",
   "name": "python",
   "nbconvert_exporter": "python",
   "pygments_lexer": "ipython3",
   "version": "3.8.8"
  }
 },
 "nbformat": 4,
 "nbformat_minor": 5
}
